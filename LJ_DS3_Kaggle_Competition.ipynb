{
  "nbformat": 4,
  "nbformat_minor": 0,
  "metadata": {
    "colab": {
      "name": "LJ DS3 Kaggle Competition.ipynb",
      "version": "0.3.2",
      "provenance": [],
      "include_colab_link": true
    },
    "kernelspec": {
      "name": "python3",
      "display_name": "Python 3"
    }
  },
  "cells": [
    {
      "cell_type": "markdown",
      "metadata": {
        "id": "view-in-github",
        "colab_type": "text"
      },
      "source": [
        "<a href=\"https://colab.research.google.com/github/livjab/DS3-Kaggle-Comptetion/blob/master/LJ_DS3_Kaggle_Competition.ipynb\" target=\"_parent\"><img src=\"https://colab.research.google.com/assets/colab-badge.svg\" alt=\"Open In Colab\"/></a>"
      ]
    },
    {
      "cell_type": "code",
      "metadata": {
        "id": "iMBsjY5ePtEP",
        "colab_type": "code",
        "colab": {}
      },
      "source": [
        "import pandas as pd\n",
        "import numpy as np"
      ],
      "execution_count": 0,
      "outputs": []
    },
    {
      "cell_type": "code",
      "metadata": {
        "id": "KZQ-V3gxP8Sl",
        "colab_type": "code",
        "outputId": "d9e9f8e8-c286-470a-d794-6f32c30fcf27",
        "colab": {
          "base_uri": "https://localhost:8080/",
          "height": 401
        }
      },
      "source": [
        "test = pd.read_csv(\"https://raw.githubusercontent.com/livjab/DS3-Kaggle-Comptetion/master/test_features.csv\")\n",
        "train = pd.read_csv(\"https://raw.githubusercontent.com/livjab/DS3-Kaggle-Comptetion/master/train_features.csv\")\n",
        "train_y = pd.read_csv(\"https://raw.githubusercontent.com/livjab/DS3-Kaggle-Comptetion/master/train_labels.csv\")\n",
        "\n",
        "train.head()"
      ],
      "execution_count": 5,
      "outputs": [
        {
          "output_type": "execute_result",
          "data": {
            "text/html": [
              "<div>\n",
              "<style scoped>\n",
              "    .dataframe tbody tr th:only-of-type {\n",
              "        vertical-align: middle;\n",
              "    }\n",
              "\n",
              "    .dataframe tbody tr th {\n",
              "        vertical-align: top;\n",
              "    }\n",
              "\n",
              "    .dataframe thead th {\n",
              "        text-align: right;\n",
              "    }\n",
              "</style>\n",
              "<table border=\"1\" class=\"dataframe\">\n",
              "  <thead>\n",
              "    <tr style=\"text-align: right;\">\n",
              "      <th></th>\n",
              "      <th>id</th>\n",
              "      <th>amount_tsh</th>\n",
              "      <th>date_recorded</th>\n",
              "      <th>funder</th>\n",
              "      <th>gps_height</th>\n",
              "      <th>installer</th>\n",
              "      <th>longitude</th>\n",
              "      <th>latitude</th>\n",
              "      <th>wpt_name</th>\n",
              "      <th>num_private</th>\n",
              "      <th>basin</th>\n",
              "      <th>subvillage</th>\n",
              "      <th>region</th>\n",
              "      <th>region_code</th>\n",
              "      <th>district_code</th>\n",
              "      <th>lga</th>\n",
              "      <th>ward</th>\n",
              "      <th>population</th>\n",
              "      <th>public_meeting</th>\n",
              "      <th>recorded_by</th>\n",
              "      <th>scheme_management</th>\n",
              "      <th>scheme_name</th>\n",
              "      <th>permit</th>\n",
              "      <th>construction_year</th>\n",
              "      <th>extraction_type</th>\n",
              "      <th>extraction_type_group</th>\n",
              "      <th>extraction_type_class</th>\n",
              "      <th>management</th>\n",
              "      <th>management_group</th>\n",
              "      <th>payment</th>\n",
              "      <th>payment_type</th>\n",
              "      <th>water_quality</th>\n",
              "      <th>quality_group</th>\n",
              "      <th>quantity</th>\n",
              "      <th>quantity_group</th>\n",
              "      <th>source</th>\n",
              "      <th>source_type</th>\n",
              "      <th>source_class</th>\n",
              "      <th>waterpoint_type</th>\n",
              "      <th>waterpoint_type_group</th>\n",
              "    </tr>\n",
              "  </thead>\n",
              "  <tbody>\n",
              "    <tr>\n",
              "      <th>0</th>\n",
              "      <td>69572</td>\n",
              "      <td>6000.0</td>\n",
              "      <td>2011-03-14</td>\n",
              "      <td>Roman</td>\n",
              "      <td>1390</td>\n",
              "      <td>Roman</td>\n",
              "      <td>34.938093</td>\n",
              "      <td>-9.856322</td>\n",
              "      <td>none</td>\n",
              "      <td>0</td>\n",
              "      <td>Lake Nyasa</td>\n",
              "      <td>Mnyusi B</td>\n",
              "      <td>Iringa</td>\n",
              "      <td>11</td>\n",
              "      <td>5</td>\n",
              "      <td>Ludewa</td>\n",
              "      <td>Mundindi</td>\n",
              "      <td>109</td>\n",
              "      <td>True</td>\n",
              "      <td>GeoData Consultants Ltd</td>\n",
              "      <td>VWC</td>\n",
              "      <td>Roman</td>\n",
              "      <td>False</td>\n",
              "      <td>1999</td>\n",
              "      <td>gravity</td>\n",
              "      <td>gravity</td>\n",
              "      <td>gravity</td>\n",
              "      <td>vwc</td>\n",
              "      <td>user-group</td>\n",
              "      <td>pay annually</td>\n",
              "      <td>annually</td>\n",
              "      <td>soft</td>\n",
              "      <td>good</td>\n",
              "      <td>enough</td>\n",
              "      <td>enough</td>\n",
              "      <td>spring</td>\n",
              "      <td>spring</td>\n",
              "      <td>groundwater</td>\n",
              "      <td>communal standpipe</td>\n",
              "      <td>communal standpipe</td>\n",
              "    </tr>\n",
              "    <tr>\n",
              "      <th>1</th>\n",
              "      <td>8776</td>\n",
              "      <td>0.0</td>\n",
              "      <td>2013-03-06</td>\n",
              "      <td>Grumeti</td>\n",
              "      <td>1399</td>\n",
              "      <td>GRUMETI</td>\n",
              "      <td>34.698766</td>\n",
              "      <td>-2.147466</td>\n",
              "      <td>Zahanati</td>\n",
              "      <td>0</td>\n",
              "      <td>Lake Victoria</td>\n",
              "      <td>Nyamara</td>\n",
              "      <td>Mara</td>\n",
              "      <td>20</td>\n",
              "      <td>2</td>\n",
              "      <td>Serengeti</td>\n",
              "      <td>Natta</td>\n",
              "      <td>280</td>\n",
              "      <td>NaN</td>\n",
              "      <td>GeoData Consultants Ltd</td>\n",
              "      <td>Other</td>\n",
              "      <td>NaN</td>\n",
              "      <td>True</td>\n",
              "      <td>2010</td>\n",
              "      <td>gravity</td>\n",
              "      <td>gravity</td>\n",
              "      <td>gravity</td>\n",
              "      <td>wug</td>\n",
              "      <td>user-group</td>\n",
              "      <td>never pay</td>\n",
              "      <td>never pay</td>\n",
              "      <td>soft</td>\n",
              "      <td>good</td>\n",
              "      <td>insufficient</td>\n",
              "      <td>insufficient</td>\n",
              "      <td>rainwater harvesting</td>\n",
              "      <td>rainwater harvesting</td>\n",
              "      <td>surface</td>\n",
              "      <td>communal standpipe</td>\n",
              "      <td>communal standpipe</td>\n",
              "    </tr>\n",
              "    <tr>\n",
              "      <th>2</th>\n",
              "      <td>34310</td>\n",
              "      <td>25.0</td>\n",
              "      <td>2013-02-25</td>\n",
              "      <td>Lottery Club</td>\n",
              "      <td>686</td>\n",
              "      <td>World vision</td>\n",
              "      <td>37.460664</td>\n",
              "      <td>-3.821329</td>\n",
              "      <td>Kwa Mahundi</td>\n",
              "      <td>0</td>\n",
              "      <td>Pangani</td>\n",
              "      <td>Majengo</td>\n",
              "      <td>Manyara</td>\n",
              "      <td>21</td>\n",
              "      <td>4</td>\n",
              "      <td>Simanjiro</td>\n",
              "      <td>Ngorika</td>\n",
              "      <td>250</td>\n",
              "      <td>True</td>\n",
              "      <td>GeoData Consultants Ltd</td>\n",
              "      <td>VWC</td>\n",
              "      <td>Nyumba ya mungu pipe scheme</td>\n",
              "      <td>True</td>\n",
              "      <td>2009</td>\n",
              "      <td>gravity</td>\n",
              "      <td>gravity</td>\n",
              "      <td>gravity</td>\n",
              "      <td>vwc</td>\n",
              "      <td>user-group</td>\n",
              "      <td>pay per bucket</td>\n",
              "      <td>per bucket</td>\n",
              "      <td>soft</td>\n",
              "      <td>good</td>\n",
              "      <td>enough</td>\n",
              "      <td>enough</td>\n",
              "      <td>dam</td>\n",
              "      <td>dam</td>\n",
              "      <td>surface</td>\n",
              "      <td>communal standpipe multiple</td>\n",
              "      <td>communal standpipe</td>\n",
              "    </tr>\n",
              "    <tr>\n",
              "      <th>3</th>\n",
              "      <td>67743</td>\n",
              "      <td>0.0</td>\n",
              "      <td>2013-01-28</td>\n",
              "      <td>Unicef</td>\n",
              "      <td>263</td>\n",
              "      <td>UNICEF</td>\n",
              "      <td>38.486161</td>\n",
              "      <td>-11.155298</td>\n",
              "      <td>Zahanati Ya Nanyumbu</td>\n",
              "      <td>0</td>\n",
              "      <td>Ruvuma / Southern Coast</td>\n",
              "      <td>Mahakamani</td>\n",
              "      <td>Mtwara</td>\n",
              "      <td>90</td>\n",
              "      <td>63</td>\n",
              "      <td>Nanyumbu</td>\n",
              "      <td>Nanyumbu</td>\n",
              "      <td>58</td>\n",
              "      <td>True</td>\n",
              "      <td>GeoData Consultants Ltd</td>\n",
              "      <td>VWC</td>\n",
              "      <td>NaN</td>\n",
              "      <td>True</td>\n",
              "      <td>1986</td>\n",
              "      <td>submersible</td>\n",
              "      <td>submersible</td>\n",
              "      <td>submersible</td>\n",
              "      <td>vwc</td>\n",
              "      <td>user-group</td>\n",
              "      <td>never pay</td>\n",
              "      <td>never pay</td>\n",
              "      <td>soft</td>\n",
              "      <td>good</td>\n",
              "      <td>dry</td>\n",
              "      <td>dry</td>\n",
              "      <td>machine dbh</td>\n",
              "      <td>borehole</td>\n",
              "      <td>groundwater</td>\n",
              "      <td>communal standpipe multiple</td>\n",
              "      <td>communal standpipe</td>\n",
              "    </tr>\n",
              "    <tr>\n",
              "      <th>4</th>\n",
              "      <td>19728</td>\n",
              "      <td>0.0</td>\n",
              "      <td>2011-07-13</td>\n",
              "      <td>Action In A</td>\n",
              "      <td>0</td>\n",
              "      <td>Artisan</td>\n",
              "      <td>31.130847</td>\n",
              "      <td>-1.825359</td>\n",
              "      <td>Shuleni</td>\n",
              "      <td>0</td>\n",
              "      <td>Lake Victoria</td>\n",
              "      <td>Kyanyamisa</td>\n",
              "      <td>Kagera</td>\n",
              "      <td>18</td>\n",
              "      <td>1</td>\n",
              "      <td>Karagwe</td>\n",
              "      <td>Nyakasimbi</td>\n",
              "      <td>0</td>\n",
              "      <td>True</td>\n",
              "      <td>GeoData Consultants Ltd</td>\n",
              "      <td>NaN</td>\n",
              "      <td>NaN</td>\n",
              "      <td>True</td>\n",
              "      <td>0</td>\n",
              "      <td>gravity</td>\n",
              "      <td>gravity</td>\n",
              "      <td>gravity</td>\n",
              "      <td>other</td>\n",
              "      <td>other</td>\n",
              "      <td>never pay</td>\n",
              "      <td>never pay</td>\n",
              "      <td>soft</td>\n",
              "      <td>good</td>\n",
              "      <td>seasonal</td>\n",
              "      <td>seasonal</td>\n",
              "      <td>rainwater harvesting</td>\n",
              "      <td>rainwater harvesting</td>\n",
              "      <td>surface</td>\n",
              "      <td>communal standpipe</td>\n",
              "      <td>communal standpipe</td>\n",
              "    </tr>\n",
              "  </tbody>\n",
              "</table>\n",
              "</div>"
            ],
            "text/plain": [
              "      id  amount_tsh  ...              waterpoint_type waterpoint_type_group\n",
              "0  69572      6000.0  ...           communal standpipe    communal standpipe\n",
              "1   8776         0.0  ...           communal standpipe    communal standpipe\n",
              "2  34310        25.0  ...  communal standpipe multiple    communal standpipe\n",
              "3  67743         0.0  ...  communal standpipe multiple    communal standpipe\n",
              "4  19728         0.0  ...           communal standpipe    communal standpipe\n",
              "\n",
              "[5 rows x 40 columns]"
            ]
          },
          "metadata": {
            "tags": []
          },
          "execution_count": 5
        }
      ]
    },
    {
      "cell_type": "code",
      "metadata": {
        "id": "gl6RPNpYjuIA",
        "colab_type": "code",
        "outputId": "768b35b6-fe14-437b-c70a-ec9e6544df6c",
        "colab": {
          "base_uri": "https://localhost:8080/",
          "height": 34
        }
      },
      "source": [
        "train.shape, train_y.shape, test.shape"
      ],
      "execution_count": 0,
      "outputs": [
        {
          "output_type": "execute_result",
          "data": {
            "text/plain": [
              "((59400, 40), (59400, 2), (14358, 40))"
            ]
          },
          "metadata": {
            "tags": []
          },
          "execution_count": 4
        }
      ]
    },
    {
      "cell_type": "code",
      "metadata": {
        "id": "uRIA48VNRnB6",
        "colab_type": "code",
        "outputId": "b3ee9f14-c8cd-4ffa-f7f8-60b33929c4bc",
        "colab": {
          "base_uri": "https://localhost:8080/",
          "height": 745
        }
      },
      "source": [
        "train.dtypes"
      ],
      "execution_count": 0,
      "outputs": [
        {
          "output_type": "execute_result",
          "data": {
            "text/plain": [
              "id                         int64\n",
              "amount_tsh               float64\n",
              "date_recorded             object\n",
              "funder                    object\n",
              "gps_height                 int64\n",
              "installer                 object\n",
              "longitude                float64\n",
              "latitude                 float64\n",
              "wpt_name                  object\n",
              "num_private                int64\n",
              "basin                     object\n",
              "subvillage                object\n",
              "region                    object\n",
              "region_code                int64\n",
              "district_code              int64\n",
              "lga                       object\n",
              "ward                      object\n",
              "population                 int64\n",
              "public_meeting            object\n",
              "recorded_by               object\n",
              "scheme_management         object\n",
              "scheme_name               object\n",
              "permit                    object\n",
              "construction_year          int64\n",
              "extraction_type           object\n",
              "extraction_type_group     object\n",
              "extraction_type_class     object\n",
              "management                object\n",
              "management_group          object\n",
              "payment                   object\n",
              "payment_type              object\n",
              "water_quality             object\n",
              "quality_group             object\n",
              "quantity                  object\n",
              "quantity_group            object\n",
              "source                    object\n",
              "source_type               object\n",
              "source_class              object\n",
              "waterpoint_type           object\n",
              "waterpoint_type_group     object\n",
              "dtype: object"
            ]
          },
          "metadata": {
            "tags": []
          },
          "execution_count": 5
        }
      ]
    },
    {
      "cell_type": "code",
      "metadata": {
        "id": "oZPjl0ldieCE",
        "colab_type": "code",
        "outputId": "5944085e-12a5-4b74-8b03-1142913f5dce",
        "colab": {
          "base_uri": "https://localhost:8080/",
          "height": 87
        }
      },
      "source": [
        "# fast first baseline\n",
        "\n",
        "train_y[\"status_group\"].value_counts(normalize=True)"
      ],
      "execution_count": 0,
      "outputs": [
        {
          "output_type": "execute_result",
          "data": {
            "text/plain": [
              "functional                 0.543081\n",
              "non functional             0.384242\n",
              "functional needs repair    0.072677\n",
              "Name: status_group, dtype: float64"
            ]
          },
          "metadata": {
            "tags": []
          },
          "execution_count": 5
        }
      ]
    },
    {
      "cell_type": "code",
      "metadata": {
        "id": "bXOzI4u3jHSx",
        "colab_type": "code",
        "outputId": "33323fbb-0f52-4628-9c6f-ba7ba751b51b",
        "colab": {
          "base_uri": "https://localhost:8080/",
          "height": 34
        }
      },
      "source": [
        "# going to combine train_y with train for ease\n",
        "\n",
        "train = pd.merge(train, train_y)\n",
        "train.shape"
      ],
      "execution_count": 6,
      "outputs": [
        {
          "output_type": "execute_result",
          "data": {
            "text/plain": [
              "(59400, 41)"
            ]
          },
          "metadata": {
            "tags": []
          },
          "execution_count": 6
        }
      ]
    },
    {
      "cell_type": "code",
      "metadata": {
        "id": "vrZFaIUpSAV7",
        "colab_type": "code",
        "outputId": "2451c449-8abc-46b7-c3a0-d4284e1fe848",
        "colab": {
          "base_uri": "https://localhost:8080/",
          "height": 194
        }
      },
      "source": [
        "# starting with a simple logistic regression model using only numeric columns\n",
        "# and simple inputer to handle nulls\n",
        "\n",
        "numeric_columns = train.select_dtypes(include=\"number\").columns\n",
        "numeric_columns.tolist()"
      ],
      "execution_count": 0,
      "outputs": [
        {
          "output_type": "execute_result",
          "data": {
            "text/plain": [
              "['id',\n",
              " 'amount_tsh',\n",
              " 'gps_height',\n",
              " 'longitude',\n",
              " 'latitude',\n",
              " 'num_private',\n",
              " 'region_code',\n",
              " 'district_code',\n",
              " 'population',\n",
              " 'construction_year']"
            ]
          },
          "metadata": {
            "tags": []
          },
          "execution_count": 7
        }
      ]
    },
    {
      "cell_type": "code",
      "metadata": {
        "id": "gng9C7UqkIYC",
        "colab_type": "code",
        "outputId": "f31fd5cd-9634-4d62-920b-4033fd6a31c1",
        "colab": {
          "base_uri": "https://localhost:8080/",
          "height": 90
        }
      },
      "source": [
        "from sklearn.linear_model import LogisticRegression\n",
        "from sklearn.impute import SimpleImputer\n",
        "\n",
        "features = numeric_columns\n",
        "target = \"status_group\"\n",
        "\n",
        "X_train = train[features]\n",
        "y_train = train[target]\n",
        "X_test = test[features]\n",
        "\n",
        "imputer = SimpleImputer()\n",
        "X_train_imputed = imputer.fit_transform(X_train)\n",
        "X_test_imputed = imputer.transform(X_test)\n",
        "\n",
        "log_reg = LogisticRegression(solver=\"lbfgs\")\n",
        "log_reg.fit(X_train_imputed, y_train)\n",
        "\n",
        "log_reg.score(X_train_imputed, y_train)"
      ],
      "execution_count": 0,
      "outputs": [
        {
          "output_type": "stream",
          "text": [
            "/usr/local/lib/python3.6/dist-packages/sklearn/linear_model/logistic.py:460: FutureWarning: Default multi_class will be changed to 'auto' in 0.22. Specify the multi_class option to silence this warning.\n",
            "  \"this warning.\", FutureWarning)\n"
          ],
          "name": "stderr"
        },
        {
          "output_type": "execute_result",
          "data": {
            "text/plain": [
              "0.550993265993266"
            ]
          },
          "metadata": {
            "tags": []
          },
          "execution_count": 8
        }
      ]
    },
    {
      "cell_type": "code",
      "metadata": {
        "id": "WknR-Yo6nD0X",
        "colab_type": "code",
        "colab": {}
      },
      "source": [
        "# going to submit baseline\n",
        "\n",
        "y_pred = log_reg.predict(X_test_imputed)\n",
        "\n",
        "sample_submission = pd.read_csv('https://raw.githubusercontent.com/livjab/DS3-Kaggle-Comptetion/master/sample_submission.csv')\n",
        "submission = sample_submission.copy()\n",
        "submission['status_group'] = y_pred\n",
        "\n",
        "from google.colab import files\n",
        "submission.to_csv('LJ-first-submission.csv', index=False)\n",
        "files.download('LJ-first-submission.csv')"
      ],
      "execution_count": 0,
      "outputs": []
    },
    {
      "cell_type": "code",
      "metadata": {
        "id": "nLBeVrWfoTBe",
        "colab_type": "code",
        "colab": {}
      },
      "source": [
        "# let's up the ante with xgboost classifier\n",
        "\n",
        "from xgboost import XGBClassifier\n",
        "from sklearn.model_selection import cross_validate\n",
        "from sklearn.metrics import accuracy_score\n",
        "\n",
        "scores = cross_validate(XGBClassifier(max_depth=8, n_estimators=100),\n",
        "                       X_train_imputed,\n",
        "                       y_train,\n",
        "                       scoring=\"accuracy\",\n",
        "                       cv=3,\n",
        "                       return_train_score=True,\n",
        "                       return_estimator=True)\n",
        "\n",
        "pd.DataFrame(scores)\n"
      ],
      "execution_count": 0,
      "outputs": []
    },
    {
      "cell_type": "code",
      "metadata": {
        "id": "xC95PrBVv-PN",
        "colab_type": "code",
        "colab": {}
      },
      "source": [
        "boost = XGBClassifier(max_depth=8, n_estimators=100)\n",
        "boost.fit(X_train_imputed, y_train)\n",
        "\n",
        "y_pred = boost.predict(X_test_imputed)"
      ],
      "execution_count": 0,
      "outputs": []
    },
    {
      "cell_type": "code",
      "metadata": {
        "id": "zAzQ4dBOypVw",
        "colab_type": "code",
        "colab": {}
      },
      "source": [
        "sample_submission = pd.read_csv('https://raw.githubusercontent.com/livjab/DS3-Kaggle-Comptetion/master/sample_submission.csv')\n",
        "submission = sample_submission.copy()\n",
        "submission['status_group'] = y_pred\n",
        "\n",
        "from google.colab import files\n",
        "submission.to_csv('LJ-second-submission.csv', index=False)\n",
        "files.download('LJ-second-submission.csv')"
      ],
      "execution_count": 0,
      "outputs": []
    },
    {
      "cell_type": "code",
      "metadata": {
        "id": "kpaGAgCwJ0v8",
        "colab_type": "code",
        "outputId": "73e85d5c-c361-49cc-f0a9-70a5595360be",
        "colab": {
          "base_uri": "https://localhost:8080/",
          "height": 303
        }
      },
      "source": [
        "!pip install category_encoders"
      ],
      "execution_count": 7,
      "outputs": [
        {
          "output_type": "stream",
          "text": [
            "Collecting category_encoders\n",
            "\u001b[?25l  Downloading https://files.pythonhosted.org/packages/6e/a1/f7a22f144f33be78afeb06bfa78478e8284a64263a3c09b1ef54e673841e/category_encoders-2.0.0-py2.py3-none-any.whl (87kB)\n",
            "\r\u001b[K     |███▊                            | 10kB 14.2MB/s eta 0:00:01\r\u001b[K     |███████▌                        | 20kB 3.3MB/s eta 0:00:01\r\u001b[K     |███████████▏                    | 30kB 4.7MB/s eta 0:00:01\r\u001b[K     |███████████████                 | 40kB 3.0MB/s eta 0:00:01\r\u001b[K     |██████████████████▋             | 51kB 3.7MB/s eta 0:00:01\r\u001b[K     |██████████████████████▍         | 61kB 4.4MB/s eta 0:00:01\r\u001b[K     |██████████████████████████▏     | 71kB 5.1MB/s eta 0:00:01\r\u001b[K     |█████████████████████████████▉  | 81kB 5.7MB/s eta 0:00:01\r\u001b[K     |████████████████████████████████| 92kB 5.7MB/s \n",
            "\u001b[?25hRequirement already satisfied: statsmodels>=0.6.1 in /usr/local/lib/python3.6/dist-packages (from category_encoders) (0.9.0)\n",
            "Requirement already satisfied: scikit-learn>=0.20.0 in /usr/local/lib/python3.6/dist-packages (from category_encoders) (0.21.1)\n",
            "Requirement already satisfied: numpy>=1.11.3 in /usr/local/lib/python3.6/dist-packages (from category_encoders) (1.16.3)\n",
            "Requirement already satisfied: patsy>=0.4.1 in /usr/local/lib/python3.6/dist-packages (from category_encoders) (0.5.1)\n",
            "Requirement already satisfied: pandas>=0.21.1 in /usr/local/lib/python3.6/dist-packages (from category_encoders) (0.24.2)\n",
            "Requirement already satisfied: scipy>=0.19.0 in /usr/local/lib/python3.6/dist-packages (from category_encoders) (1.3.0)\n",
            "Requirement already satisfied: joblib>=0.11 in /usr/local/lib/python3.6/dist-packages (from scikit-learn>=0.20.0->category_encoders) (0.12.5)\n",
            "Requirement already satisfied: six in /usr/local/lib/python3.6/dist-packages (from patsy>=0.4.1->category_encoders) (1.12.0)\n",
            "Requirement already satisfied: pytz>=2011k in /usr/local/lib/python3.6/dist-packages (from pandas>=0.21.1->category_encoders) (2018.9)\n",
            "Requirement already satisfied: python-dateutil>=2.5.0 in /usr/local/lib/python3.6/dist-packages (from pandas>=0.21.1->category_encoders) (2.5.3)\n",
            "Installing collected packages: category-encoders\n",
            "Successfully installed category-encoders-2.0.0\n"
          ],
          "name": "stdout"
        }
      ]
    },
    {
      "cell_type": "code",
      "metadata": {
        "id": "s2O0D4vr294F",
        "colab_type": "code",
        "colab": {}
      },
      "source": [
        "# Would like to create a model that includes all features, and then drop the least\n",
        "# important from there.\n",
        "\n",
        "# Will need to do some serious cleaning/encoding of categorical features"
      ],
      "execution_count": 0,
      "outputs": []
    },
    {
      "cell_type": "code",
      "metadata": {
        "id": "3db5DONbMK5V",
        "colab_type": "code",
        "colab": {}
      },
      "source": [
        "# drop \"id\" because it is random\n",
        "\n",
        "#X_train = train.drop(columns=\"id\")\n",
        "#X_test = test.drop(columns=\"id\")\n",
        "\n",
        "# Making a note to drop this feaure when running my model"
      ],
      "execution_count": 0,
      "outputs": []
    },
    {
      "cell_type": "code",
      "metadata": {
        "id": "Uk4G5HMTMzmD",
        "colab_type": "code",
        "outputId": "1885d864-5b9c-496c-837a-cd471773539f",
        "colab": {
          "base_uri": "https://localhost:8080/",
          "height": 34
        }
      },
      "source": [
        "train.amount_tsh.isnull().sum()"
      ],
      "execution_count": 0,
      "outputs": [
        {
          "output_type": "execute_result",
          "data": {
            "text/plain": [
              "0"
            ]
          },
          "metadata": {
            "tags": []
          },
          "execution_count": 16
        }
      ]
    },
    {
      "cell_type": "code",
      "metadata": {
        "id": "HQ4FWpUzNbEs",
        "colab_type": "code",
        "outputId": "6bd77403-539c-44e2-c157-bfa15e8d61f7",
        "colab": {
          "base_uri": "https://localhost:8080/",
          "height": 34
        }
      },
      "source": [
        "train.date_recorded.dtypes"
      ],
      "execution_count": 0,
      "outputs": [
        {
          "output_type": "execute_result",
          "data": {
            "text/plain": [
              "dtype('O')"
            ]
          },
          "metadata": {
            "tags": []
          },
          "execution_count": 34
        }
      ]
    },
    {
      "cell_type": "code",
      "metadata": {
        "id": "STQ4wKKWRbYG",
        "colab_type": "code",
        "outputId": "00514b80-0977-43da-dae0-2758b71d97b3",
        "colab": {
          "base_uri": "https://localhost:8080/",
          "height": 105
        }
      },
      "source": [
        "train.date_recorded.describe()"
      ],
      "execution_count": 0,
      "outputs": [
        {
          "output_type": "execute_result",
          "data": {
            "text/plain": [
              "count          59400\n",
              "unique           356\n",
              "top       2011-03-15\n",
              "freq             572\n",
              "Name: date_recorded, dtype: object"
            ]
          },
          "metadata": {
            "tags": []
          },
          "execution_count": 18
        }
      ]
    },
    {
      "cell_type": "code",
      "metadata": {
        "id": "lNU-0PbBRr2X",
        "colab_type": "code",
        "outputId": "c3a0ddef-6d47-4081-c875-6f97478f6ca8",
        "colab": {
          "base_uri": "https://localhost:8080/",
          "height": 34
        }
      },
      "source": [
        "train.date_recorded.isnull().sum()"
      ],
      "execution_count": 0,
      "outputs": [
        {
          "output_type": "execute_result",
          "data": {
            "text/plain": [
              "0"
            ]
          },
          "metadata": {
            "tags": []
          },
          "execution_count": 19
        }
      ]
    },
    {
      "cell_type": "code",
      "metadata": {
        "id": "vX5f-ZwbIsKs",
        "colab_type": "code",
        "outputId": "c0ade524-b54c-4031-f3ba-41fd1148585d",
        "colab": {
          "base_uri": "https://localhost:8080/",
          "height": 123
        }
      },
      "source": [
        "# Want to split the date recorded into year, month, and day categories\n",
        "\n",
        "train[\"date_recorded_sep\"] = train[\"date_recorded\"].str.split(\"-\")\n",
        "train[\"date_recorded_sep\"].head()"
      ],
      "execution_count": 8,
      "outputs": [
        {
          "output_type": "execute_result",
          "data": {
            "text/plain": [
              "0    [2011, 03, 14]\n",
              "1    [2013, 03, 06]\n",
              "2    [2013, 02, 25]\n",
              "3    [2013, 01, 28]\n",
              "4    [2011, 07, 13]\n",
              "Name: date_recorded_sep, dtype: object"
            ]
          },
          "metadata": {
            "tags": []
          },
          "execution_count": 8
        }
      ]
    },
    {
      "cell_type": "code",
      "metadata": {
        "id": "_ssCRXYyU5vE",
        "colab_type": "code",
        "colab": {}
      },
      "source": [
        "train[\"year_recorded\"] = train[\"date_recorded_sep\"].str[0]\n",
        "train[\"month_recorded\"] = train[\"date_recorded_sep\"].str[1]\n",
        "train[\"day_of_month_recorded\"] = train[\"date_recorded_sep\"].str[2]\n"
      ],
      "execution_count": 0,
      "outputs": []
    },
    {
      "cell_type": "code",
      "metadata": {
        "id": "dj5hIV6Ib9t8",
        "colab_type": "code",
        "colab": {}
      },
      "source": [
        "# Let's turn these into numeric columns\n",
        "\n",
        "train[\"year_recorded\"] = pd.to_numeric(train[\"year_recorded\"])\n",
        "train[\"month_recorded\"] = pd.to_numeric(train[\"month_recorded\"])\n",
        "train[\"day_of_month_recorded\"] = pd.to_numeric(train[\"day_of_month_recorded\"])"
      ],
      "execution_count": 0,
      "outputs": []
    },
    {
      "cell_type": "code",
      "metadata": {
        "id": "NK1Yc1TPjqO6",
        "colab_type": "code",
        "colab": {}
      },
      "source": [
        "# same for test set\n",
        "\n",
        "test[\"date_recorded_sep\"] = test[\"date_recorded\"].str.split(\"-\")\n",
        "\n",
        "test[\"year_recorded\"] = test[\"date_recorded_sep\"].str[0]\n",
        "test[\"month_recorded\"] = test[\"date_recorded_sep\"].str[1]\n",
        "test[\"day_of_month_recorded\"] = test[\"date_recorded_sep\"].str[2]\n",
        "\n",
        "test[\"year_recorded\"] = pd.to_numeric(test[\"year_recorded\"])\n",
        "test[\"month_recorded\"] = pd.to_numeric(test[\"month_recorded\"])\n",
        "test[\"day_of_month_recorded\"] = pd.to_numeric(test[\"day_of_month_recorded\"])\n"
      ],
      "execution_count": 0,
      "outputs": []
    },
    {
      "cell_type": "code",
      "metadata": {
        "id": "odoeDzsigMp3",
        "colab_type": "code",
        "colab": {}
      },
      "source": [
        "train = train.drop(columns=\"date_recorded_sep\")\n",
        "test = test.drop(columns=\"date_recorded_sep\")"
      ],
      "execution_count": 0,
      "outputs": []
    },
    {
      "cell_type": "code",
      "metadata": {
        "id": "H9m3s9CVhqpC",
        "colab_type": "code",
        "outputId": "68d56c11-64e0-4608-9854-05a6d3650156",
        "colab": {
          "base_uri": "https://localhost:8080/",
          "height": 34
        }
      },
      "source": [
        "train.shape, test.shape"
      ],
      "execution_count": 13,
      "outputs": [
        {
          "output_type": "execute_result",
          "data": {
            "text/plain": [
              "((59400, 44), (14358, 43))"
            ]
          },
          "metadata": {
            "tags": []
          },
          "execution_count": 13
        }
      ]
    },
    {
      "cell_type": "code",
      "metadata": {
        "id": "_QL5hKLOe_L6",
        "colab_type": "code",
        "colab": {}
      },
      "source": [
        "train.funder.value_counts()"
      ],
      "execution_count": 0,
      "outputs": []
    },
    {
      "cell_type": "code",
      "metadata": {
        "id": "nBPf6JzqdsvL",
        "colab_type": "code",
        "outputId": "d9614483-c0d6-4915-d5a4-5d96d82f95cc",
        "colab": {
          "base_uri": "https://localhost:8080/",
          "height": 34
        }
      },
      "source": [
        "train.funder.isnull().sum()"
      ],
      "execution_count": 0,
      "outputs": [
        {
          "output_type": "execute_result",
          "data": {
            "text/plain": [
              "3635"
            ]
          },
          "metadata": {
            "tags": []
          },
          "execution_count": 59
        }
      ]
    },
    {
      "cell_type": "code",
      "metadata": {
        "id": "pTlvfn2dfDKe",
        "colab_type": "code",
        "colab": {}
      },
      "source": [
        "train[\"funder\"] = train.funder.fillna(value=\"Government Of Tanzania\")\n",
        "test[\"funder\"] = test.funder.fillna(value=\"Government of Tanzania\")"
      ],
      "execution_count": 0,
      "outputs": []
    },
    {
      "cell_type": "code",
      "metadata": {
        "id": "YS67HLhr-etN",
        "colab_type": "code",
        "colab": {}
      },
      "source": [
        "import category_encoders as ce\n",
        "\n",
        "X_train = train.drop(columns=[\"status_group\", \"date_recorded\"])\n",
        "y_train = train[\"status_group\"]\n",
        "X_test = test.drop(columns=\"date_recorded\")\n",
        "\n",
        "imputer = SimpleImputer(strategy=\"most_frequent\")\n",
        "X_train = imputer.fit_transform(X_train)\n",
        "X_test = imputer.transform(X_test)\n",
        "\n",
        "encoder = ce.BinaryEncoder()\n",
        "X_train = encoder.fit_transform(X_train)\n",
        "X_test = encoder.transform(X_test)\n"
      ],
      "execution_count": 0,
      "outputs": []
    },
    {
      "cell_type": "code",
      "metadata": {
        "id": "CA0sqYxrvNjQ",
        "colab_type": "code",
        "outputId": "a3da25ab-e99e-4379-8d2a-be86d6138677",
        "colab": {
          "base_uri": "https://localhost:8080/",
          "height": 137
        }
      },
      "source": [
        "scores = cross_validate(XGBClassifier(max_depth=5, n_estimators=100),\n",
        "                       X_train,\n",
        "                       y_train,\n",
        "                       scoring=\"accuracy\",\n",
        "                       cv=3,\n",
        "                       return_train_score=True,\n",
        "                       return_estimator=True)\n",
        "\n",
        "pd.DataFrame(scores)"
      ],
      "execution_count": 0,
      "outputs": [
        {
          "output_type": "execute_result",
          "data": {
            "text/html": [
              "<div>\n",
              "<style scoped>\n",
              "    .dataframe tbody tr th:only-of-type {\n",
              "        vertical-align: middle;\n",
              "    }\n",
              "\n",
              "    .dataframe tbody tr th {\n",
              "        vertical-align: top;\n",
              "    }\n",
              "\n",
              "    .dataframe thead th {\n",
              "        text-align: right;\n",
              "    }\n",
              "</style>\n",
              "<table border=\"1\" class=\"dataframe\">\n",
              "  <thead>\n",
              "    <tr style=\"text-align: right;\">\n",
              "      <th></th>\n",
              "      <th>fit_time</th>\n",
              "      <th>score_time</th>\n",
              "      <th>estimator</th>\n",
              "      <th>test_score</th>\n",
              "      <th>train_score</th>\n",
              "    </tr>\n",
              "  </thead>\n",
              "  <tbody>\n",
              "    <tr>\n",
              "      <th>0</th>\n",
              "      <td>104.065572</td>\n",
              "      <td>0.700282</td>\n",
              "      <td>XGBClassifier(base_score=0.5, booster='gbtree'...</td>\n",
              "      <td>0.772273</td>\n",
              "      <td>0.790404</td>\n",
              "    </tr>\n",
              "    <tr>\n",
              "      <th>1</th>\n",
              "      <td>103.639979</td>\n",
              "      <td>0.708248</td>\n",
              "      <td>XGBClassifier(base_score=0.5, booster='gbtree'...</td>\n",
              "      <td>0.775808</td>\n",
              "      <td>0.788763</td>\n",
              "    </tr>\n",
              "    <tr>\n",
              "      <th>2</th>\n",
              "      <td>103.109728</td>\n",
              "      <td>0.718316</td>\n",
              "      <td>XGBClassifier(base_score=0.5, booster='gbtree'...</td>\n",
              "      <td>0.773636</td>\n",
              "      <td>0.792525</td>\n",
              "    </tr>\n",
              "  </tbody>\n",
              "</table>\n",
              "</div>"
            ],
            "text/plain": [
              "     fit_time  score_time  ... test_score  train_score\n",
              "0  104.065572    0.700282  ...   0.772273     0.790404\n",
              "1  103.639979    0.708248  ...   0.775808     0.788763\n",
              "2  103.109728    0.718316  ...   0.773636     0.792525\n",
              "\n",
              "[3 rows x 5 columns]"
            ]
          },
          "metadata": {
            "tags": []
          },
          "execution_count": 85
        }
      ]
    },
    {
      "cell_type": "code",
      "metadata": {
        "id": "zUzKpnG2zVDs",
        "colab_type": "code",
        "colab": {}
      },
      "source": [
        "boost = XGBClassifier(max_depth=5, n_estimators=100)\n",
        "boost.fit(X_train, y_train)\n",
        "\n",
        "y_pred = boost.predict(X_test)"
      ],
      "execution_count": 0,
      "outputs": []
    },
    {
      "cell_type": "code",
      "metadata": {
        "id": "y8GxzF96zaE2",
        "colab_type": "code",
        "colab": {}
      },
      "source": [
        "# third submission\n",
        "\n",
        "sample_submission = pd.read_csv('https://raw.githubusercontent.com/livjab/DS3-Kaggle-Comptetion/master/sample_submission.csv')\n",
        "submission = sample_submission.copy()\n",
        "submission['status_group'] = y_pred\n",
        "\n",
        "from google.colab import files\n",
        "submission.to_csv('LJ-third-submission.csv', index=False)\n",
        "files.download('LJ-third-submission.csv')"
      ],
      "execution_count": 0,
      "outputs": []
    },
    {
      "cell_type": "code",
      "metadata": {
        "id": "EWOeMI0v18Qz",
        "colab_type": "code",
        "outputId": "5d1eb8b6-5dc7-4f2a-9a62-ba1152781a0e",
        "colab": {
          "base_uri": "https://localhost:8080/",
          "height": 303
        }
      },
      "source": [
        "!pip install xgboost --upgrade"
      ],
      "execution_count": 0,
      "outputs": [
        {
          "output_type": "stream",
          "text": [
            "Collecting xgboost\n",
            "\u001b[?25l  Downloading https://files.pythonhosted.org/packages/c1/24/5fe7237b2eca13ee0cfb100bec8c23f4e69ce9df852a64b0493d49dae4e0/xgboost-0.90-py2.py3-none-manylinux1_x86_64.whl (142.8MB)\n",
            "\u001b[K     |████████████████████████████████| 142.8MB 602kB/s \n",
            "\u001b[?25hRequirement already satisfied, skipping upgrade: numpy in /usr/local/lib/python3.6/dist-packages (from xgboost) (1.16.3)\n",
            "Requirement already satisfied, skipping upgrade: scipy in /usr/local/lib/python3.6/dist-packages (from xgboost) (1.2.1)\n",
            "Installing collected packages: xgboost\n",
            "  Found existing installation: xgboost 0.82\n",
            "    Uninstalling xgboost-0.82:\n",
            "      Successfully uninstalled xgboost-0.82\n",
            "Successfully installed xgboost-0.90\n"
          ],
          "name": "stdout"
        },
        {
          "output_type": "display_data",
          "data": {
            "application/vnd.colab-display-data+json": {
              "pip_warning": {
                "packages": [
                  "xgboost"
                ]
              }
            }
          },
          "metadata": {
            "tags": []
          }
        }
      ]
    },
    {
      "cell_type": "code",
      "metadata": {
        "id": "_1MS_d8M18oX",
        "colab_type": "code",
        "outputId": "e439b6a5-3e8c-4da9-e57e-f0fdafdd6aaa",
        "colab": {
          "base_uri": "https://localhost:8080/",
          "height": 268
        }
      },
      "source": [
        "importances = pd.Series(boost.feature_importances_, X_train.columns)\n",
        "top_n = importances.head(30).sort_values(ascending=True)\n",
        "top_n.plot.barh();"
      ],
      "execution_count": 0,
      "outputs": [
        {
          "output_type": "display_data",
          "data": {
            "image/png": "[encoded data removed]",
            "text/plain": [
              "<Figure size 432x288 with 1 Axes>"
            ]
          },
          "metadata": {
            "tags": []
          }
        }
      ]
    },
    {
      "cell_type": "code",
      "metadata": {
        "id": "UEISyolU3_tk",
        "colab_type": "code",
        "colab": {}
      },
      "source": [
        "# well thats really unhelpful after binary encoding changed all my column names\n",
        "\n",
        "# gonna go back and try to continue encoding each feature in a way that allows\n",
        "# it to maintain its column name"
      ],
      "execution_count": 0,
      "outputs": []
    },
    {
      "cell_type": "code",
      "metadata": {
        "id": "-Ov5kEqwH2ax",
        "colab_type": "code",
        "colab": {}
      },
      "source": [
        "train.installer.value_counts()"
      ],
      "execution_count": 0,
      "outputs": []
    },
    {
      "cell_type": "code",
      "metadata": {
        "id": "t5hOFo5NKdLx",
        "colab_type": "code",
        "colab": {}
      },
      "source": [
        "# best / easiest to drop this column from model due to high cardinality"
      ],
      "execution_count": 0,
      "outputs": []
    },
    {
      "cell_type": "code",
      "metadata": {
        "id": "xsUYM_R3Lqhe",
        "colab_type": "code",
        "colab": {}
      },
      "source": [
        "train.wpt_name.value_counts()"
      ],
      "execution_count": 0,
      "outputs": []
    },
    {
      "cell_type": "code",
      "metadata": {
        "id": "9PtjsM7NLyAS",
        "colab_type": "code",
        "colab": {}
      },
      "source": [
        "# going to exclude this column also"
      ],
      "execution_count": 0,
      "outputs": []
    },
    {
      "cell_type": "code",
      "metadata": {
        "id": "Zg38hLMWL6JF",
        "colab_type": "code",
        "outputId": "02f7ed3f-4f09-4a64-aeb7-a37e8b844c91",
        "colab": {
          "base_uri": "https://localhost:8080/",
          "height": 194
        }
      },
      "source": [
        "train.basin.value_counts()"
      ],
      "execution_count": 0,
      "outputs": [
        {
          "output_type": "execute_result",
          "data": {
            "text/plain": [
              "Lake Victoria              10248\n",
              "Pangani                     8940\n",
              "Rufiji                      7976\n",
              "Internal                    7785\n",
              "Lake Tanganyika             6432\n",
              "Wami / Ruvu                 5987\n",
              "Lake Nyasa                  5085\n",
              "Ruvuma / Southern Coast     4493\n",
              "Lake Rukwa                  2454\n",
              "Name: basin, dtype: int64"
            ]
          },
          "metadata": {
            "tags": []
          },
          "execution_count": 26
        }
      ]
    },
    {
      "cell_type": "code",
      "metadata": {
        "id": "UJC4yd66PaxV",
        "colab_type": "code",
        "outputId": "118bde15-92d6-4afe-f1a2-4570623d4d48",
        "colab": {
          "base_uri": "https://localhost:8080/",
          "height": 34
        }
      },
      "source": [
        "train.basin.isnull().sum()"
      ],
      "execution_count": 0,
      "outputs": [
        {
          "output_type": "execute_result",
          "data": {
            "text/plain": [
              "0"
            ]
          },
          "metadata": {
            "tags": []
          },
          "execution_count": 33
        }
      ]
    },
    {
      "cell_type": "code",
      "metadata": {
        "id": "dMOP1pLrMCN8",
        "colab_type": "code",
        "outputId": "b4070759-f3af-4109-ee2c-3017fc2790c1",
        "colab": {
          "base_uri": "https://localhost:8080/",
          "height": 214
        }
      },
      "source": [
        "# this feature is a good option to use one hot encoding\n",
        "import category_encoders as ce\n",
        "\n",
        "oh_encoder = ce.OneHotEncoder(use_cat_names=True)\n",
        "basin_encoded = oh_encoder.fit_transform(train[[\"basin\"]])\n",
        "test_encoded = oh_encoder.transform(test[[\"basin\"]])\n",
        "\n",
        "basin_encoded.head()\n"
      ],
      "execution_count": 17,
      "outputs": [
        {
          "output_type": "execute_result",
          "data": {
            "text/html": [
              "<div>\n",
              "<style scoped>\n",
              "    .dataframe tbody tr th:only-of-type {\n",
              "        vertical-align: middle;\n",
              "    }\n",
              "\n",
              "    .dataframe tbody tr th {\n",
              "        vertical-align: top;\n",
              "    }\n",
              "\n",
              "    .dataframe thead th {\n",
              "        text-align: right;\n",
              "    }\n",
              "</style>\n",
              "<table border=\"1\" class=\"dataframe\">\n",
              "  <thead>\n",
              "    <tr style=\"text-align: right;\">\n",
              "      <th></th>\n",
              "      <th>basin_Lake Nyasa</th>\n",
              "      <th>basin_Lake Victoria</th>\n",
              "      <th>basin_Pangani</th>\n",
              "      <th>basin_Ruvuma / Southern Coast</th>\n",
              "      <th>basin_Internal</th>\n",
              "      <th>basin_Lake Tanganyika</th>\n",
              "      <th>basin_Wami / Ruvu</th>\n",
              "      <th>basin_Rufiji</th>\n",
              "      <th>basin_Lake Rukwa</th>\n",
              "    </tr>\n",
              "  </thead>\n",
              "  <tbody>\n",
              "    <tr>\n",
              "      <th>0</th>\n",
              "      <td>1</td>\n",
              "      <td>0</td>\n",
              "      <td>0</td>\n",
              "      <td>0</td>\n",
              "      <td>0</td>\n",
              "      <td>0</td>\n",
              "      <td>0</td>\n",
              "      <td>0</td>\n",
              "      <td>0</td>\n",
              "    </tr>\n",
              "    <tr>\n",
              "      <th>1</th>\n",
              "      <td>0</td>\n",
              "      <td>1</td>\n",
              "      <td>0</td>\n",
              "      <td>0</td>\n",
              "      <td>0</td>\n",
              "      <td>0</td>\n",
              "      <td>0</td>\n",
              "      <td>0</td>\n",
              "      <td>0</td>\n",
              "    </tr>\n",
              "    <tr>\n",
              "      <th>2</th>\n",
              "      <td>0</td>\n",
              "      <td>0</td>\n",
              "      <td>1</td>\n",
              "      <td>0</td>\n",
              "      <td>0</td>\n",
              "      <td>0</td>\n",
              "      <td>0</td>\n",
              "      <td>0</td>\n",
              "      <td>0</td>\n",
              "    </tr>\n",
              "    <tr>\n",
              "      <th>3</th>\n",
              "      <td>0</td>\n",
              "      <td>0</td>\n",
              "      <td>0</td>\n",
              "      <td>1</td>\n",
              "      <td>0</td>\n",
              "      <td>0</td>\n",
              "      <td>0</td>\n",
              "      <td>0</td>\n",
              "      <td>0</td>\n",
              "    </tr>\n",
              "    <tr>\n",
              "      <th>4</th>\n",
              "      <td>0</td>\n",
              "      <td>1</td>\n",
              "      <td>0</td>\n",
              "      <td>0</td>\n",
              "      <td>0</td>\n",
              "      <td>0</td>\n",
              "      <td>0</td>\n",
              "      <td>0</td>\n",
              "      <td>0</td>\n",
              "    </tr>\n",
              "  </tbody>\n",
              "</table>\n",
              "</div>"
            ],
            "text/plain": [
              "   basin_Lake Nyasa  basin_Lake Victoria  ...  basin_Rufiji  basin_Lake Rukwa\n",
              "0                 1                    0  ...             0                 0\n",
              "1                 0                    1  ...             0                 0\n",
              "2                 0                    0  ...             0                 0\n",
              "3                 0                    0  ...             0                 0\n",
              "4                 0                    1  ...             0                 0\n",
              "\n",
              "[5 rows x 9 columns]"
            ]
          },
          "metadata": {
            "tags": []
          },
          "execution_count": 17
        }
      ]
    },
    {
      "cell_type": "code",
      "metadata": {
        "id": "GvsRiDyfN-Ei",
        "colab_type": "code",
        "colab": {}
      },
      "source": [
        "train = pd.concat([train, basin_encoded], axis=1)\n",
        "test = pd.concat([test, test_encoded], axis=1) "
      ],
      "execution_count": 0,
      "outputs": []
    },
    {
      "cell_type": "code",
      "metadata": {
        "id": "a9Tu6cXAOe2G",
        "colab_type": "code",
        "colab": {}
      },
      "source": [
        "train.subvillage.value_counts()"
      ],
      "execution_count": 0,
      "outputs": []
    },
    {
      "cell_type": "code",
      "metadata": {
        "id": "dZ4CWXqzQSqt",
        "colab_type": "code",
        "colab": {}
      },
      "source": [
        "# not going to include this one"
      ],
      "execution_count": 0,
      "outputs": []
    },
    {
      "cell_type": "code",
      "metadata": {
        "id": "1EtY58cyQbcp",
        "colab_type": "code",
        "outputId": "6f6658b0-e303-4060-d854-af0fbb0dd1f2",
        "colab": {
          "base_uri": "https://localhost:8080/",
          "height": 407
        }
      },
      "source": [
        "train.region.value_counts()"
      ],
      "execution_count": 0,
      "outputs": [
        {
          "output_type": "execute_result",
          "data": {
            "text/plain": [
              "Iringa           5294\n",
              "Shinyanga        4982\n",
              "Mbeya            4639\n",
              "Kilimanjaro      4379\n",
              "Morogoro         4006\n",
              "Arusha           3350\n",
              "Kagera           3316\n",
              "Mwanza           3102\n",
              "Kigoma           2816\n",
              "Ruvuma           2640\n",
              "Pwani            2635\n",
              "Tanga            2547\n",
              "Dodoma           2201\n",
              "Singida          2093\n",
              "Mara             1969\n",
              "Tabora           1959\n",
              "Rukwa            1808\n",
              "Mtwara           1730\n",
              "Manyara          1583\n",
              "Lindi            1546\n",
              "Dar es Salaam     805\n",
              "Name: region, dtype: int64"
            ]
          },
          "metadata": {
            "tags": []
          },
          "execution_count": 43
        }
      ]
    },
    {
      "cell_type": "code",
      "metadata": {
        "id": "s6TF4a9XQep7",
        "colab_type": "code",
        "outputId": "702b24a1-0aed-4b89-ceba-cbe106a47f8f",
        "colab": {
          "base_uri": "https://localhost:8080/",
          "height": 234
        }
      },
      "source": [
        "# another good one to use one hot encoding\n",
        "\n",
        "oh_encoder = ce.OneHotEncoder(use_cat_names=True)\n",
        "region_encoded = oh_encoder.fit_transform(train[[\"region\"]])\n",
        "test_encoder = oh_encoder.transform(test[[\"region\"]])\n",
        "\n",
        "region_encoded.head()"
      ],
      "execution_count": 19,
      "outputs": [
        {
          "output_type": "execute_result",
          "data": {
            "text/html": [
              "<div>\n",
              "<style scoped>\n",
              "    .dataframe tbody tr th:only-of-type {\n",
              "        vertical-align: middle;\n",
              "    }\n",
              "\n",
              "    .dataframe tbody tr th {\n",
              "        vertical-align: top;\n",
              "    }\n",
              "\n",
              "    .dataframe thead th {\n",
              "        text-align: right;\n",
              "    }\n",
              "</style>\n",
              "<table border=\"1\" class=\"dataframe\">\n",
              "  <thead>\n",
              "    <tr style=\"text-align: right;\">\n",
              "      <th></th>\n",
              "      <th>region_Iringa</th>\n",
              "      <th>region_Mara</th>\n",
              "      <th>region_Manyara</th>\n",
              "      <th>region_Mtwara</th>\n",
              "      <th>region_Kagera</th>\n",
              "      <th>region_Tanga</th>\n",
              "      <th>region_Shinyanga</th>\n",
              "      <th>region_Tabora</th>\n",
              "      <th>region_Pwani</th>\n",
              "      <th>region_Ruvuma</th>\n",
              "      <th>region_Kilimanjaro</th>\n",
              "      <th>region_Rukwa</th>\n",
              "      <th>region_Mwanza</th>\n",
              "      <th>region_Kigoma</th>\n",
              "      <th>region_Lindi</th>\n",
              "      <th>region_Dodoma</th>\n",
              "      <th>region_Arusha</th>\n",
              "      <th>region_Mbeya</th>\n",
              "      <th>region_Singida</th>\n",
              "      <th>region_Morogoro</th>\n",
              "      <th>region_Dar es Salaam</th>\n",
              "    </tr>\n",
              "  </thead>\n",
              "  <tbody>\n",
              "    <tr>\n",
              "      <th>0</th>\n",
              "      <td>1</td>\n",
              "      <td>0</td>\n",
              "      <td>0</td>\n",
              "      <td>0</td>\n",
              "      <td>0</td>\n",
              "      <td>0</td>\n",
              "      <td>0</td>\n",
              "      <td>0</td>\n",
              "      <td>0</td>\n",
              "      <td>0</td>\n",
              "      <td>0</td>\n",
              "      <td>0</td>\n",
              "      <td>0</td>\n",
              "      <td>0</td>\n",
              "      <td>0</td>\n",
              "      <td>0</td>\n",
              "      <td>0</td>\n",
              "      <td>0</td>\n",
              "      <td>0</td>\n",
              "      <td>0</td>\n",
              "      <td>0</td>\n",
              "    </tr>\n",
              "    <tr>\n",
              "      <th>1</th>\n",
              "      <td>0</td>\n",
              "      <td>1</td>\n",
              "      <td>0</td>\n",
              "      <td>0</td>\n",
              "      <td>0</td>\n",
              "      <td>0</td>\n",
              "      <td>0</td>\n",
              "      <td>0</td>\n",
              "      <td>0</td>\n",
              "      <td>0</td>\n",
              "      <td>0</td>\n",
              "      <td>0</td>\n",
              "      <td>0</td>\n",
              "      <td>0</td>\n",
              "      <td>0</td>\n",
              "      <td>0</td>\n",
              "      <td>0</td>\n",
              "      <td>0</td>\n",
              "      <td>0</td>\n",
              "      <td>0</td>\n",
              "      <td>0</td>\n",
              "    </tr>\n",
              "    <tr>\n",
              "      <th>2</th>\n",
              "      <td>0</td>\n",
              "      <td>0</td>\n",
              "      <td>1</td>\n",
              "      <td>0</td>\n",
              "      <td>0</td>\n",
              "      <td>0</td>\n",
              "      <td>0</td>\n",
              "      <td>0</td>\n",
              "      <td>0</td>\n",
              "      <td>0</td>\n",
              "      <td>0</td>\n",
              "      <td>0</td>\n",
              "      <td>0</td>\n",
              "      <td>0</td>\n",
              "      <td>0</td>\n",
              "      <td>0</td>\n",
              "      <td>0</td>\n",
              "      <td>0</td>\n",
              "      <td>0</td>\n",
              "      <td>0</td>\n",
              "      <td>0</td>\n",
              "    </tr>\n",
              "    <tr>\n",
              "      <th>3</th>\n",
              "      <td>0</td>\n",
              "      <td>0</td>\n",
              "      <td>0</td>\n",
              "      <td>1</td>\n",
              "      <td>0</td>\n",
              "      <td>0</td>\n",
              "      <td>0</td>\n",
              "      <td>0</td>\n",
              "      <td>0</td>\n",
              "      <td>0</td>\n",
              "      <td>0</td>\n",
              "      <td>0</td>\n",
              "      <td>0</td>\n",
              "      <td>0</td>\n",
              "      <td>0</td>\n",
              "      <td>0</td>\n",
              "      <td>0</td>\n",
              "      <td>0</td>\n",
              "      <td>0</td>\n",
              "      <td>0</td>\n",
              "      <td>0</td>\n",
              "    </tr>\n",
              "    <tr>\n",
              "      <th>4</th>\n",
              "      <td>0</td>\n",
              "      <td>0</td>\n",
              "      <td>0</td>\n",
              "      <td>0</td>\n",
              "      <td>1</td>\n",
              "      <td>0</td>\n",
              "      <td>0</td>\n",
              "      <td>0</td>\n",
              "      <td>0</td>\n",
              "      <td>0</td>\n",
              "      <td>0</td>\n",
              "      <td>0</td>\n",
              "      <td>0</td>\n",
              "      <td>0</td>\n",
              "      <td>0</td>\n",
              "      <td>0</td>\n",
              "      <td>0</td>\n",
              "      <td>0</td>\n",
              "      <td>0</td>\n",
              "      <td>0</td>\n",
              "      <td>0</td>\n",
              "    </tr>\n",
              "  </tbody>\n",
              "</table>\n",
              "</div>"
            ],
            "text/plain": [
              "   region_Iringa  region_Mara  ...  region_Morogoro  region_Dar es Salaam\n",
              "0              1            0  ...                0                     0\n",
              "1              0            1  ...                0                     0\n",
              "2              0            0  ...                0                     0\n",
              "3              0            0  ...                0                     0\n",
              "4              0            0  ...                0                     0\n",
              "\n",
              "[5 rows x 21 columns]"
            ]
          },
          "metadata": {
            "tags": []
          },
          "execution_count": 19
        }
      ]
    },
    {
      "cell_type": "code",
      "metadata": {
        "id": "zCEIX7efQt25",
        "colab_type": "code",
        "colab": {}
      },
      "source": [
        "train = pd.concat([train, region_encoded], axis=1)\n",
        "test = pd.concat([test, test_encoder], axis=1)"
      ],
      "execution_count": 0,
      "outputs": []
    },
    {
      "cell_type": "code",
      "metadata": {
        "id": "EHSxs4L_Q2T_",
        "colab_type": "code",
        "colab": {}
      },
      "source": [
        "train.lga.value_counts()"
      ],
      "execution_count": 0,
      "outputs": []
    },
    {
      "cell_type": "code",
      "metadata": {
        "id": "wVwE_bwyQ-h_",
        "colab_type": "code",
        "colab": {}
      },
      "source": [
        "# DROP IT"
      ],
      "execution_count": 0,
      "outputs": []
    },
    {
      "cell_type": "code",
      "metadata": {
        "id": "5W4UzNxvRCvT",
        "colab_type": "code",
        "colab": {}
      },
      "source": [
        "train.ward.value_counts()"
      ],
      "execution_count": 0,
      "outputs": []
    },
    {
      "cell_type": "code",
      "metadata": {
        "id": "lNqOVskyRF6l",
        "colab_type": "code",
        "colab": {}
      },
      "source": [
        "# BYE"
      ],
      "execution_count": 0,
      "outputs": []
    },
    {
      "cell_type": "code",
      "metadata": {
        "id": "vHKmAovNRNMW",
        "colab_type": "code",
        "outputId": "e492d440-8a10-4124-f882-50b384588205",
        "colab": {
          "base_uri": "https://localhost:8080/",
          "height": 70
        }
      },
      "source": [
        "train.public_meeting.value_counts()"
      ],
      "execution_count": 0,
      "outputs": [
        {
          "output_type": "execute_result",
          "data": {
            "text/plain": [
              "True     51011\n",
              "False     5055\n",
              "Name: public_meeting, dtype: int64"
            ]
          },
          "metadata": {
            "tags": []
          },
          "execution_count": 48
        }
      ]
    },
    {
      "cell_type": "code",
      "metadata": {
        "id": "_YRK0-RoRQFO",
        "colab_type": "code",
        "outputId": "c47840b7-a9d9-41b2-c0a8-124bae69624e",
        "colab": {
          "base_uri": "https://localhost:8080/",
          "height": 34
        }
      },
      "source": [
        "train.public_meeting.isnull().sum()"
      ],
      "execution_count": 0,
      "outputs": [
        {
          "output_type": "execute_result",
          "data": {
            "text/plain": [
              "3334"
            ]
          },
          "metadata": {
            "tags": []
          },
          "execution_count": 49
        }
      ]
    },
    {
      "cell_type": "code",
      "metadata": {
        "id": "p014jBjHRPIm",
        "colab_type": "code",
        "colab": {}
      },
      "source": [
        "train[\"public_meeting\"] = train.public_meeting.fillna(value=\"True\")\n",
        "train[\"public_meeting\"] = train.public_meeting.astype(bool).astype(int)"
      ],
      "execution_count": 0,
      "outputs": []
    },
    {
      "cell_type": "code",
      "metadata": {
        "id": "jhMVFwIzfl2w",
        "colab_type": "code",
        "colab": {}
      },
      "source": [
        "test[\"public_meeting\"] = test.public_meeting.fillna(value=\"True\")\n",
        "test[\"public_meeting\"] = test.public_meeting.astype(bool).astype(int)"
      ],
      "execution_count": 0,
      "outputs": []
    },
    {
      "cell_type": "code",
      "metadata": {
        "id": "_XSktYOqSYJ2",
        "colab_type": "code",
        "outputId": "a7b8c1b2-1635-4f64-bb21-b3da9f4f54e2",
        "colab": {
          "base_uri": "https://localhost:8080/",
          "height": 70
        }
      },
      "source": [
        "train.public_meeting.value_counts()"
      ],
      "execution_count": 0,
      "outputs": [
        {
          "output_type": "execute_result",
          "data": {
            "text/plain": [
              "1    54345\n",
              "0     5055\n",
              "Name: public_meeting, dtype: int64"
            ]
          },
          "metadata": {
            "tags": []
          },
          "execution_count": 144
        }
      ]
    },
    {
      "cell_type": "code",
      "metadata": {
        "id": "sR3JKlJ_f49S",
        "colab_type": "code",
        "outputId": "d5dd9289-1062-434e-cf1c-703a7b17e75e",
        "colab": {
          "base_uri": "https://localhost:8080/",
          "height": 70
        }
      },
      "source": [
        "test.public_meeting.value_counts()"
      ],
      "execution_count": 0,
      "outputs": [
        {
          "output_type": "execute_result",
          "data": {
            "text/plain": [
              "1    13093\n",
              "0     1265\n",
              "Name: public_meeting, dtype: int64"
            ]
          },
          "metadata": {
            "tags": []
          },
          "execution_count": 145
        }
      ]
    },
    {
      "cell_type": "code",
      "metadata": {
        "id": "BSVJUHjCSZJW",
        "colab_type": "code",
        "outputId": "7ad1c120-2d0d-4f9a-dea8-ecd5f28d82b1",
        "colab": {
          "base_uri": "https://localhost:8080/",
          "height": 52
        }
      },
      "source": [
        "train.recorded_by.value_counts()"
      ],
      "execution_count": 0,
      "outputs": [
        {
          "output_type": "execute_result",
          "data": {
            "text/plain": [
              "GeoData Consultants Ltd    59400\n",
              "Name: recorded_by, dtype: int64"
            ]
          },
          "metadata": {
            "tags": []
          },
          "execution_count": 60
        }
      ]
    },
    {
      "cell_type": "code",
      "metadata": {
        "id": "YuRNOPVmU1Lb",
        "colab_type": "code",
        "outputId": "254975e3-a6c6-4cd9-b391-67090fa1ff7a",
        "colab": {
          "base_uri": "https://localhost:8080/",
          "height": 52
        }
      },
      "source": [
        "test.recorded_by.value_counts()"
      ],
      "execution_count": 0,
      "outputs": [
        {
          "output_type": "execute_result",
          "data": {
            "text/plain": [
              "GeoData Consultants Ltd    14358\n",
              "Name: recorded_by, dtype: int64"
            ]
          },
          "metadata": {
            "tags": []
          },
          "execution_count": 61
        }
      ]
    },
    {
      "cell_type": "code",
      "metadata": {
        "id": "wWSUdFgLU7Jw",
        "colab_type": "code",
        "colab": {}
      },
      "source": [
        "# can drop this feature entirely as it is not adding anything\n",
        "\n",
        "train = train.drop(columns=\"recorded_by\")\n",
        "test = test.drop(columns=\"recorded_by\")"
      ],
      "execution_count": 0,
      "outputs": []
    },
    {
      "cell_type": "code",
      "metadata": {
        "id": "Gb8euPn3iLkB",
        "colab_type": "code",
        "outputId": "d0a22f83-1f95-4f5c-dfb5-d012eb97e987",
        "colab": {
          "base_uri": "https://localhost:8080/",
          "height": 34
        }
      },
      "source": [
        "train.shape, test.shape"
      ],
      "execution_count": 24,
      "outputs": [
        {
          "output_type": "execute_result",
          "data": {
            "text/plain": [
              "((59400, 73), (14358, 72))"
            ]
          },
          "metadata": {
            "tags": []
          },
          "execution_count": 24
        }
      ]
    },
    {
      "cell_type": "code",
      "metadata": {
        "id": "nE7ULx1lXnK7",
        "colab_type": "code",
        "outputId": "927158a1-65c7-421b-a70c-b8991431c317",
        "colab": {
          "base_uri": "https://localhost:8080/",
          "height": 247
        }
      },
      "source": [
        "train.scheme_management.value_counts()"
      ],
      "execution_count": 0,
      "outputs": [
        {
          "output_type": "execute_result",
          "data": {
            "text/plain": [
              "VWC                 36793\n",
              "WUG                  5206\n",
              "Water authority      3153\n",
              "WUA                  2883\n",
              "Water Board          2748\n",
              "Parastatal           1680\n",
              "Private operator     1063\n",
              "Company              1061\n",
              "Other                 766\n",
              "SWC                    97\n",
              "Trust                  72\n",
              "None                    1\n",
              "Name: scheme_management, dtype: int64"
            ]
          },
          "metadata": {
            "tags": []
          },
          "execution_count": 64
        }
      ]
    },
    {
      "cell_type": "code",
      "metadata": {
        "id": "swPiq2cmZJom",
        "colab_type": "code",
        "outputId": "03ab97cd-b369-4273-9a32-335a225d7545",
        "colab": {
          "base_uri": "https://localhost:8080/",
          "height": 34
        }
      },
      "source": [
        "train.scheme_management.isnull().sum()"
      ],
      "execution_count": 0,
      "outputs": [
        {
          "output_type": "execute_result",
          "data": {
            "text/plain": [
              "3877"
            ]
          },
          "metadata": {
            "tags": []
          },
          "execution_count": 69
        }
      ]
    },
    {
      "cell_type": "code",
      "metadata": {
        "id": "1LG833IyZPll",
        "colab_type": "code",
        "colab": {}
      },
      "source": [
        "train.scheme_management = train.scheme_management.fillna(value=\"None\")\n",
        "test.scheme_management = test.scheme_management.fillna(value=\"None\")"
      ],
      "execution_count": 0,
      "outputs": []
    },
    {
      "cell_type": "code",
      "metadata": {
        "id": "KpF0LA02kmZj",
        "colab_type": "code",
        "outputId": "2d9da612-9b6f-4eee-d433-cf150415f8c5",
        "colab": {
          "base_uri": "https://localhost:8080/",
          "height": 34
        }
      },
      "source": [
        "train.scheme_management.isnull().sum()"
      ],
      "execution_count": 0,
      "outputs": [
        {
          "output_type": "execute_result",
          "data": {
            "text/plain": [
              "0"
            ]
          },
          "metadata": {
            "tags": []
          },
          "execution_count": 158
        }
      ]
    },
    {
      "cell_type": "code",
      "metadata": {
        "id": "5hmlo00xXztw",
        "colab_type": "code",
        "outputId": "eb8880c3-38e3-407e-97b8-c602cf46a77b",
        "colab": {
          "base_uri": "https://localhost:8080/",
          "height": 234
        }
      },
      "source": [
        "# lets one hot this baby\n",
        "\n",
        "oh_encoder = ce.OneHotEncoder(use_cat_names=True)\n",
        "scheme_encoded = oh_encoder.fit_transform(train[[\"scheme_management\"]])\n",
        "test_encoder = oh_encoder.transform(test[[\"scheme_management\"]])\n",
        "\n",
        "scheme_encoded.head()"
      ],
      "execution_count": 26,
      "outputs": [
        {
          "output_type": "execute_result",
          "data": {
            "text/html": [
              "<div>\n",
              "<style scoped>\n",
              "    .dataframe tbody tr th:only-of-type {\n",
              "        vertical-align: middle;\n",
              "    }\n",
              "\n",
              "    .dataframe tbody tr th {\n",
              "        vertical-align: top;\n",
              "    }\n",
              "\n",
              "    .dataframe thead th {\n",
              "        text-align: right;\n",
              "    }\n",
              "</style>\n",
              "<table border=\"1\" class=\"dataframe\">\n",
              "  <thead>\n",
              "    <tr style=\"text-align: right;\">\n",
              "      <th></th>\n",
              "      <th>scheme_management_VWC</th>\n",
              "      <th>scheme_management_Other</th>\n",
              "      <th>scheme_management_None</th>\n",
              "      <th>scheme_management_Private operator</th>\n",
              "      <th>scheme_management_WUG</th>\n",
              "      <th>scheme_management_Water Board</th>\n",
              "      <th>scheme_management_WUA</th>\n",
              "      <th>scheme_management_Water authority</th>\n",
              "      <th>scheme_management_Company</th>\n",
              "      <th>scheme_management_Parastatal</th>\n",
              "      <th>scheme_management_Trust</th>\n",
              "      <th>scheme_management_SWC</th>\n",
              "    </tr>\n",
              "  </thead>\n",
              "  <tbody>\n",
              "    <tr>\n",
              "      <th>0</th>\n",
              "      <td>1</td>\n",
              "      <td>0</td>\n",
              "      <td>0</td>\n",
              "      <td>0</td>\n",
              "      <td>0</td>\n",
              "      <td>0</td>\n",
              "      <td>0</td>\n",
              "      <td>0</td>\n",
              "      <td>0</td>\n",
              "      <td>0</td>\n",
              "      <td>0</td>\n",
              "      <td>0</td>\n",
              "    </tr>\n",
              "    <tr>\n",
              "      <th>1</th>\n",
              "      <td>0</td>\n",
              "      <td>1</td>\n",
              "      <td>0</td>\n",
              "      <td>0</td>\n",
              "      <td>0</td>\n",
              "      <td>0</td>\n",
              "      <td>0</td>\n",
              "      <td>0</td>\n",
              "      <td>0</td>\n",
              "      <td>0</td>\n",
              "      <td>0</td>\n",
              "      <td>0</td>\n",
              "    </tr>\n",
              "    <tr>\n",
              "      <th>2</th>\n",
              "      <td>1</td>\n",
              "      <td>0</td>\n",
              "      <td>0</td>\n",
              "      <td>0</td>\n",
              "      <td>0</td>\n",
              "      <td>0</td>\n",
              "      <td>0</td>\n",
              "      <td>0</td>\n",
              "      <td>0</td>\n",
              "      <td>0</td>\n",
              "      <td>0</td>\n",
              "      <td>0</td>\n",
              "    </tr>\n",
              "    <tr>\n",
              "      <th>3</th>\n",
              "      <td>1</td>\n",
              "      <td>0</td>\n",
              "      <td>0</td>\n",
              "      <td>0</td>\n",
              "      <td>0</td>\n",
              "      <td>0</td>\n",
              "      <td>0</td>\n",
              "      <td>0</td>\n",
              "      <td>0</td>\n",
              "      <td>0</td>\n",
              "      <td>0</td>\n",
              "      <td>0</td>\n",
              "    </tr>\n",
              "    <tr>\n",
              "      <th>4</th>\n",
              "      <td>0</td>\n",
              "      <td>0</td>\n",
              "      <td>1</td>\n",
              "      <td>0</td>\n",
              "      <td>0</td>\n",
              "      <td>0</td>\n",
              "      <td>0</td>\n",
              "      <td>0</td>\n",
              "      <td>0</td>\n",
              "      <td>0</td>\n",
              "      <td>0</td>\n",
              "      <td>0</td>\n",
              "    </tr>\n",
              "  </tbody>\n",
              "</table>\n",
              "</div>"
            ],
            "text/plain": [
              "   scheme_management_VWC  ...  scheme_management_SWC\n",
              "0                      1  ...                      0\n",
              "1                      0  ...                      0\n",
              "2                      1  ...                      0\n",
              "3                      1  ...                      0\n",
              "4                      0  ...                      0\n",
              "\n",
              "[5 rows x 12 columns]"
            ]
          },
          "metadata": {
            "tags": []
          },
          "execution_count": 26
        }
      ]
    },
    {
      "cell_type": "code",
      "metadata": {
        "id": "r7fru7l6YtKE",
        "colab_type": "code",
        "colab": {}
      },
      "source": [
        "train = pd.concat([train, scheme_encoded], axis=1)\n",
        "test = pd.concat([test, test_encoder], axis=1)"
      ],
      "execution_count": 0,
      "outputs": []
    },
    {
      "cell_type": "code",
      "metadata": {
        "id": "UfVtVNBbYCrP",
        "colab_type": "code",
        "colab": {}
      },
      "source": [
        "train.scheme_name.value_counts()"
      ],
      "execution_count": 0,
      "outputs": []
    },
    {
      "cell_type": "code",
      "metadata": {
        "id": "iC642tkOYJXm",
        "colab_type": "code",
        "colab": {}
      },
      "source": [
        "# get outta heeeere"
      ],
      "execution_count": 0,
      "outputs": []
    },
    {
      "cell_type": "code",
      "metadata": {
        "id": "pnQdIMcKY3Pr",
        "colab_type": "code",
        "outputId": "c7259814-a60b-42fb-d390-d34438cbf233",
        "colab": {
          "base_uri": "https://localhost:8080/",
          "height": 70
        }
      },
      "source": [
        "train.permit.value_counts()"
      ],
      "execution_count": 0,
      "outputs": [
        {
          "output_type": "execute_result",
          "data": {
            "text/plain": [
              "True     38852\n",
              "False    17492\n",
              "Name: permit, dtype: int64"
            ]
          },
          "metadata": {
            "tags": []
          },
          "execution_count": 68
        }
      ]
    },
    {
      "cell_type": "code",
      "metadata": {
        "id": "6xXuL102ZvGx",
        "colab_type": "code",
        "outputId": "2750760b-984c-45e3-d314-e2de8216db29",
        "colab": {
          "base_uri": "https://localhost:8080/",
          "height": 34
        }
      },
      "source": [
        "train.permit.isnull().sum()"
      ],
      "execution_count": 0,
      "outputs": [
        {
          "output_type": "execute_result",
          "data": {
            "text/plain": [
              "3056"
            ]
          },
          "metadata": {
            "tags": []
          },
          "execution_count": 78
        }
      ]
    },
    {
      "cell_type": "code",
      "metadata": {
        "id": "vM4AqM3BY4bF",
        "colab_type": "code",
        "colab": {}
      },
      "source": [
        "train.permit = train.permit.fillna(value=\"True\")\n",
        "train.permit = train.permit.astype(bool).astype(int)"
      ],
      "execution_count": 0,
      "outputs": []
    },
    {
      "cell_type": "code",
      "metadata": {
        "id": "7AgyVXEXgYzw",
        "colab_type": "code",
        "colab": {}
      },
      "source": [
        "test.permit = test.permit.fillna(value=\"True\")\n",
        "test.permit = test.permit.astype(bool).astype(int)"
      ],
      "execution_count": 0,
      "outputs": []
    },
    {
      "cell_type": "code",
      "metadata": {
        "id": "FbF5STtCaUmB",
        "colab_type": "code",
        "outputId": "84685f73-a40d-476f-ed75-a88fc777a113",
        "colab": {
          "base_uri": "https://localhost:8080/",
          "height": 354
        }
      },
      "source": [
        "train.extraction_type.value_counts()"
      ],
      "execution_count": 0,
      "outputs": [
        {
          "output_type": "execute_result",
          "data": {
            "text/plain": [
              "gravity                      26780\n",
              "nira/tanira                   8154\n",
              "other                         6430\n",
              "submersible                   4764\n",
              "swn 80                        3670\n",
              "mono                          2865\n",
              "india mark ii                 2400\n",
              "afridev                       1770\n",
              "ksb                           1415\n",
              "other - rope pump              451\n",
              "other - swn 81                 229\n",
              "windmill                       117\n",
              "india mark iii                  98\n",
              "cemo                            90\n",
              "other - play pump               85\n",
              "walimi                          48\n",
              "climax                          32\n",
              "other - mkulima/shinyanga        2\n",
              "Name: extraction_type, dtype: int64"
            ]
          },
          "metadata": {
            "tags": []
          },
          "execution_count": 82
        }
      ]
    },
    {
      "cell_type": "code",
      "metadata": {
        "id": "mjaH6yLxcAAH",
        "colab_type": "code",
        "outputId": "5fbe6976-0376-4329-bcf5-fc8b61d65ffb",
        "colab": {
          "base_uri": "https://localhost:8080/",
          "height": 265
        }
      },
      "source": [
        "train.extraction_type_group.value_counts()"
      ],
      "execution_count": 0,
      "outputs": [
        {
          "output_type": "execute_result",
          "data": {
            "text/plain": [
              "gravity            26780\n",
              "nira/tanira         8154\n",
              "other               6430\n",
              "submersible         6179\n",
              "swn 80              3670\n",
              "mono                2865\n",
              "india mark ii       2400\n",
              "afridev             1770\n",
              "rope pump            451\n",
              "other handpump       364\n",
              "other motorpump      122\n",
              "wind-powered         117\n",
              "india mark iii        98\n",
              "Name: extraction_type_group, dtype: int64"
            ]
          },
          "metadata": {
            "tags": []
          },
          "execution_count": 83
        }
      ]
    },
    {
      "cell_type": "code",
      "metadata": {
        "id": "sGkRQ4ePcBBy",
        "colab_type": "code",
        "outputId": "6f7abbc3-1ac9-4838-dd77-b6953f1ae043",
        "colab": {
          "base_uri": "https://localhost:8080/",
          "height": 158
        }
      },
      "source": [
        "train.extraction_type_class.value_counts()"
      ],
      "execution_count": 0,
      "outputs": [
        {
          "output_type": "execute_result",
          "data": {
            "text/plain": [
              "gravity         26780\n",
              "handpump        16456\n",
              "other            6430\n",
              "submersible      6179\n",
              "motorpump        2987\n",
              "rope pump         451\n",
              "wind-powered      117\n",
              "Name: extraction_type_class, dtype: int64"
            ]
          },
          "metadata": {
            "tags": []
          },
          "execution_count": 84
        }
      ]
    },
    {
      "cell_type": "code",
      "metadata": {
        "id": "d3bZfBrEcONe",
        "colab_type": "code",
        "outputId": "020f640e-ee17-48a6-c896-2060911f1e5f",
        "colab": {
          "base_uri": "https://localhost:8080/",
          "height": 34
        }
      },
      "source": [
        "train.extraction_type_class.isnull().sum()"
      ],
      "execution_count": 0,
      "outputs": [
        {
          "output_type": "execute_result",
          "data": {
            "text/plain": [
              "0"
            ]
          },
          "metadata": {
            "tags": []
          },
          "execution_count": 85
        }
      ]
    },
    {
      "cell_type": "code",
      "metadata": {
        "id": "_HjL2RjLcmYG",
        "colab_type": "code",
        "outputId": "beef352c-7005-4261-a5f5-08f474279691",
        "colab": {
          "base_uri": "https://localhost:8080/",
          "height": 234
        }
      },
      "source": [
        "# since these three have a lot of similarities, going to use only the last one\n",
        "# and one hot encode it\n",
        "\n",
        "oh_encoder = ce.OneHotEncoder(use_cat_names=True)\n",
        "extraction_encoded = oh_encoder.fit_transform(train[[\"extraction_type_class\"]])\n",
        "test_encoder = oh_encoder.transform(test[[\"extraction_type_class\"]])\n",
        "\n",
        "extraction_encoded.head()\n"
      ],
      "execution_count": 30,
      "outputs": [
        {
          "output_type": "execute_result",
          "data": {
            "text/html": [
              "<div>\n",
              "<style scoped>\n",
              "    .dataframe tbody tr th:only-of-type {\n",
              "        vertical-align: middle;\n",
              "    }\n",
              "\n",
              "    .dataframe tbody tr th {\n",
              "        vertical-align: top;\n",
              "    }\n",
              "\n",
              "    .dataframe thead th {\n",
              "        text-align: right;\n",
              "    }\n",
              "</style>\n",
              "<table border=\"1\" class=\"dataframe\">\n",
              "  <thead>\n",
              "    <tr style=\"text-align: right;\">\n",
              "      <th></th>\n",
              "      <th>extraction_type_class_gravity</th>\n",
              "      <th>extraction_type_class_submersible</th>\n",
              "      <th>extraction_type_class_handpump</th>\n",
              "      <th>extraction_type_class_other</th>\n",
              "      <th>extraction_type_class_motorpump</th>\n",
              "      <th>extraction_type_class_wind-powered</th>\n",
              "      <th>extraction_type_class_rope pump</th>\n",
              "    </tr>\n",
              "  </thead>\n",
              "  <tbody>\n",
              "    <tr>\n",
              "      <th>0</th>\n",
              "      <td>1</td>\n",
              "      <td>0</td>\n",
              "      <td>0</td>\n",
              "      <td>0</td>\n",
              "      <td>0</td>\n",
              "      <td>0</td>\n",
              "      <td>0</td>\n",
              "    </tr>\n",
              "    <tr>\n",
              "      <th>1</th>\n",
              "      <td>1</td>\n",
              "      <td>0</td>\n",
              "      <td>0</td>\n",
              "      <td>0</td>\n",
              "      <td>0</td>\n",
              "      <td>0</td>\n",
              "      <td>0</td>\n",
              "    </tr>\n",
              "    <tr>\n",
              "      <th>2</th>\n",
              "      <td>1</td>\n",
              "      <td>0</td>\n",
              "      <td>0</td>\n",
              "      <td>0</td>\n",
              "      <td>0</td>\n",
              "      <td>0</td>\n",
              "      <td>0</td>\n",
              "    </tr>\n",
              "    <tr>\n",
              "      <th>3</th>\n",
              "      <td>0</td>\n",
              "      <td>1</td>\n",
              "      <td>0</td>\n",
              "      <td>0</td>\n",
              "      <td>0</td>\n",
              "      <td>0</td>\n",
              "      <td>0</td>\n",
              "    </tr>\n",
              "    <tr>\n",
              "      <th>4</th>\n",
              "      <td>1</td>\n",
              "      <td>0</td>\n",
              "      <td>0</td>\n",
              "      <td>0</td>\n",
              "      <td>0</td>\n",
              "      <td>0</td>\n",
              "      <td>0</td>\n",
              "    </tr>\n",
              "  </tbody>\n",
              "</table>\n",
              "</div>"
            ],
            "text/plain": [
              "   extraction_type_class_gravity  ...  extraction_type_class_rope pump\n",
              "0                              1  ...                                0\n",
              "1                              1  ...                                0\n",
              "2                              1  ...                                0\n",
              "3                              0  ...                                0\n",
              "4                              1  ...                                0\n",
              "\n",
              "[5 rows x 7 columns]"
            ]
          },
          "metadata": {
            "tags": []
          },
          "execution_count": 30
        }
      ]
    },
    {
      "cell_type": "code",
      "metadata": {
        "id": "3wwbp2fQdCTV",
        "colab_type": "code",
        "colab": {}
      },
      "source": [
        "train = pd.concat([train, extraction_encoded], axis=1)\n",
        "test = pd.concat([test, test_encoder], axis=1)"
      ],
      "execution_count": 0,
      "outputs": []
    },
    {
      "cell_type": "code",
      "metadata": {
        "id": "q703TdImgoiY",
        "colab_type": "code",
        "outputId": "747a4644-073e-4e62-ec35-fd67c69d39bd",
        "colab": {
          "base_uri": "https://localhost:8080/",
          "height": 34
        }
      },
      "source": [
        "test.shape, train.shape"
      ],
      "execution_count": 32,
      "outputs": [
        {
          "output_type": "execute_result",
          "data": {
            "text/plain": [
              "((14358, 91), (59400, 92))"
            ]
          },
          "metadata": {
            "tags": []
          },
          "execution_count": 32
        }
      ]
    },
    {
      "cell_type": "code",
      "metadata": {
        "id": "zzShjkZDhAAc",
        "colab_type": "code",
        "outputId": "6250334d-8b73-4ab6-907e-ac4c28c64291",
        "colab": {
          "base_uri": "https://localhost:8080/",
          "height": 550
        }
      },
      "source": [
        "train.columns"
      ],
      "execution_count": 33,
      "outputs": [
        {
          "output_type": "execute_result",
          "data": {
            "text/plain": [
              "Index(['id', 'amount_tsh', 'date_recorded', 'funder', 'gps_height',\n",
              "       'installer', 'longitude', 'latitude', 'wpt_name', 'num_private',\n",
              "       'basin', 'subvillage', 'region', 'region_code', 'district_code', 'lga',\n",
              "       'ward', 'population', 'public_meeting', 'scheme_management',\n",
              "       'scheme_name', 'permit', 'construction_year', 'extraction_type',\n",
              "       'extraction_type_group', 'extraction_type_class', 'management',\n",
              "       'management_group', 'payment', 'payment_type', 'water_quality',\n",
              "       'quality_group', 'quantity', 'quantity_group', 'source', 'source_type',\n",
              "       'source_class', 'waterpoint_type', 'waterpoint_type_group',\n",
              "       'status_group', 'year_recorded', 'month_recorded',\n",
              "       'day_of_month_recorded', 'basin_Lake Nyasa', 'basin_Lake Victoria',\n",
              "       'basin_Pangani', 'basin_Ruvuma / Southern Coast', 'basin_Internal',\n",
              "       'basin_Lake Tanganyika', 'basin_Wami / Ruvu', 'basin_Rufiji',\n",
              "       'basin_Lake Rukwa', 'region_Iringa', 'region_Mara', 'region_Manyara',\n",
              "       'region_Mtwara', 'region_Kagera', 'region_Tanga', 'region_Shinyanga',\n",
              "       'region_Tabora', 'region_Pwani', 'region_Ruvuma', 'region_Kilimanjaro',\n",
              "       'region_Rukwa', 'region_Mwanza', 'region_Kigoma', 'region_Lindi',\n",
              "       'region_Dodoma', 'region_Arusha', 'region_Mbeya', 'region_Singida',\n",
              "       'region_Morogoro', 'region_Dar es Salaam', 'scheme_management_VWC',\n",
              "       'scheme_management_Other', 'scheme_management_None',\n",
              "       'scheme_management_Private operator', 'scheme_management_WUG',\n",
              "       'scheme_management_Water Board', 'scheme_management_WUA',\n",
              "       'scheme_management_Water authority', 'scheme_management_Company',\n",
              "       'scheme_management_Parastatal', 'scheme_management_Trust',\n",
              "       'scheme_management_SWC', 'extraction_type_class_gravity',\n",
              "       'extraction_type_class_submersible', 'extraction_type_class_handpump',\n",
              "       'extraction_type_class_other', 'extraction_type_class_motorpump',\n",
              "       'extraction_type_class_wind-powered',\n",
              "       'extraction_type_class_rope pump'],\n",
              "      dtype='object')"
            ]
          },
          "metadata": {
            "tags": []
          },
          "execution_count": 33
        }
      ]
    },
    {
      "cell_type": "code",
      "metadata": {
        "id": "vIFlGJkEdWtC",
        "colab_type": "code",
        "outputId": "f8e3a8fb-b6f8-4fae-a96a-66774b4d40ba",
        "colab": {
          "base_uri": "https://localhost:8080/",
          "height": 137
        }
      },
      "source": [
        "# want to get a final submission in today\n",
        "\n",
        "features = ['amount_tsh', 'gps_height', 'longitude', 'latitude', 'num_private',\n",
        "       'region_code', 'district_code',\n",
        "       'population', 'public_meeting', 'permit', 'construction_year', 'year_recorded',\n",
        "       'month_recorded', 'day_of_month_recorded', 'basin_Lake Nyasa',\n",
        "       'basin_Lake Victoria', 'basin_Pangani', 'basin_Ruvuma / Southern Coast',\n",
        "       'basin_Internal', 'basin_Lake Tanganyika', 'basin_Wami / Ruvu',\n",
        "       'basin_Rufiji', 'basin_Lake Rukwa', 'region_Iringa', 'region_Mara',\n",
        "       'region_Manyara', 'region_Mtwara', 'region_Kagera', 'region_Tanga',\n",
        "       'region_Shinyanga', 'region_Tabora', 'region_Pwani', 'region_Ruvuma',\n",
        "       'region_Kilimanjaro', 'region_Rukwa', 'region_Mwanza', 'region_Kigoma',\n",
        "       'region_Lindi', 'region_Dodoma', 'region_Arusha', 'region_Mbeya',\n",
        "       'region_Singida', 'region_Morogoro', 'region_Dar es Salaam',\n",
        "       'scheme_management_VWC', 'scheme_management_Other',\n",
        "       'scheme_management_None', 'scheme_management_Private operator',\n",
        "       'scheme_management_WUG', 'scheme_management_Water Board',\n",
        "       'scheme_management_WUA', 'scheme_management_Water authority',\n",
        "       'scheme_management_Company', 'scheme_management_Parastatal',\n",
        "       'scheme_management_Trust', 'scheme_management_SWC']\n",
        "target = \"status_group\"\n",
        "\n",
        "X_train = train[features]\n",
        "y_train = train[target]\n",
        "X_test = test[features]\n",
        "\n",
        "scores = cross_validate(XGBClassifier(max_depth=7, n_estimators=100),\n",
        "                       X_train,\n",
        "                       y_train,\n",
        "                       scoring=\"accuracy\",\n",
        "                       cv=3,\n",
        "                       return_train_score=True,\n",
        "                       return_estimator=True)\n",
        "\n",
        "pd.DataFrame(scores)"
      ],
      "execution_count": 0,
      "outputs": [
        {
          "output_type": "execute_result",
          "data": {
            "text/html": [
              "<div>\n",
              "<style scoped>\n",
              "    .dataframe tbody tr th:only-of-type {\n",
              "        vertical-align: middle;\n",
              "    }\n",
              "\n",
              "    .dataframe tbody tr th {\n",
              "        vertical-align: top;\n",
              "    }\n",
              "\n",
              "    .dataframe thead th {\n",
              "        text-align: right;\n",
              "    }\n",
              "</style>\n",
              "<table border=\"1\" class=\"dataframe\">\n",
              "  <thead>\n",
              "    <tr style=\"text-align: right;\">\n",
              "      <th></th>\n",
              "      <th>fit_time</th>\n",
              "      <th>score_time</th>\n",
              "      <th>estimator</th>\n",
              "      <th>test_score</th>\n",
              "      <th>train_score</th>\n",
              "    </tr>\n",
              "  </thead>\n",
              "  <tbody>\n",
              "    <tr>\n",
              "      <th>0</th>\n",
              "      <td>45.016488</td>\n",
              "      <td>0.527241</td>\n",
              "      <td>XGBClassifier(base_score=0.5, booster='gbtree'...</td>\n",
              "      <td>0.705505</td>\n",
              "      <td>0.745025</td>\n",
              "    </tr>\n",
              "    <tr>\n",
              "      <th>1</th>\n",
              "      <td>44.505869</td>\n",
              "      <td>0.516633</td>\n",
              "      <td>XGBClassifier(base_score=0.5, booster='gbtree'...</td>\n",
              "      <td>0.704545</td>\n",
              "      <td>0.741111</td>\n",
              "    </tr>\n",
              "    <tr>\n",
              "      <th>2</th>\n",
              "      <td>44.941952</td>\n",
              "      <td>0.527607</td>\n",
              "      <td>XGBClassifier(base_score=0.5, booster='gbtree'...</td>\n",
              "      <td>0.701869</td>\n",
              "      <td>0.748535</td>\n",
              "    </tr>\n",
              "  </tbody>\n",
              "</table>\n",
              "</div>"
            ],
            "text/plain": [
              "    fit_time  score_time  ... test_score  train_score\n",
              "0  45.016488    0.527241  ...   0.705505     0.745025\n",
              "1  44.505869    0.516633  ...   0.704545     0.741111\n",
              "2  44.941952    0.527607  ...   0.701869     0.748535\n",
              "\n",
              "[3 rows x 5 columns]"
            ]
          },
          "metadata": {
            "tags": []
          },
          "execution_count": 168
        }
      ]
    },
    {
      "cell_type": "code",
      "metadata": {
        "id": "TIkrXb7PkSZ4",
        "colab_type": "code",
        "colab": {}
      },
      "source": [
        "boost = XGBClassifier(max_depth=5, n_estimators=100)\n",
        "boost.fit(X_train, y_train)\n",
        "\n",
        "y_pred = boost.predict(X_test)"
      ],
      "execution_count": 0,
      "outputs": []
    },
    {
      "cell_type": "code",
      "metadata": {
        "id": "ketovHodpNKt",
        "colab_type": "code",
        "outputId": "a36ebefd-df09-4cfd-c9b3-296edd38e822",
        "colab": {
          "base_uri": "https://localhost:8080/",
          "height": 703
        }
      },
      "source": [
        "import matplotlib.pyplot as plt\n",
        "\n",
        "importances = pd.Series(boost.feature_importances_, X_train.columns)\n",
        "top_n = importances.sort_values(ascending=True)\n",
        "plt.figure(figsize=(15,12))\n",
        "top_n.plot.barh();"
      ],
      "execution_count": 0,
      "outputs": [
        {
          "output_type": "display_data",
          "data": {
            "image/png": "[encoded data removed]",
            "text/plain": [
              "<Figure size 1080x864 with 1 Axes>"
            ]
          },
          "metadata": {
            "tags": []
          }
        }
      ]
    },
    {
      "cell_type": "code",
      "metadata": {
        "id": "zIrhFxWippR7",
        "colab_type": "code",
        "colab": {}
      },
      "source": [
        "# well at least I have column names this time. \n",
        "# going to continue with the rest of the features "
      ],
      "execution_count": 0,
      "outputs": []
    },
    {
      "cell_type": "code",
      "metadata": {
        "id": "OPEd8EFI61Lt",
        "colab_type": "code",
        "colab": {
          "base_uri": "https://localhost:8080/",
          "height": 396
        },
        "outputId": "2272789f-7fc3-4e48-852d-5fc34efc76ef"
      },
      "source": [
        "train.head()"
      ],
      "execution_count": 34,
      "outputs": [
        {
          "output_type": "execute_result",
          "data": {
            "text/html": [
              "<div>\n",
              "<style scoped>\n",
              "    .dataframe tbody tr th:only-of-type {\n",
              "        vertical-align: middle;\n",
              "    }\n",
              "\n",
              "    .dataframe tbody tr th {\n",
              "        vertical-align: top;\n",
              "    }\n",
              "\n",
              "    .dataframe thead th {\n",
              "        text-align: right;\n",
              "    }\n",
              "</style>\n",
              "<table border=\"1\" class=\"dataframe\">\n",
              "  <thead>\n",
              "    <tr style=\"text-align: right;\">\n",
              "      <th></th>\n",
              "      <th>id</th>\n",
              "      <th>amount_tsh</th>\n",
              "      <th>date_recorded</th>\n",
              "      <th>funder</th>\n",
              "      <th>gps_height</th>\n",
              "      <th>installer</th>\n",
              "      <th>longitude</th>\n",
              "      <th>latitude</th>\n",
              "      <th>wpt_name</th>\n",
              "      <th>num_private</th>\n",
              "      <th>basin</th>\n",
              "      <th>subvillage</th>\n",
              "      <th>region</th>\n",
              "      <th>region_code</th>\n",
              "      <th>district_code</th>\n",
              "      <th>lga</th>\n",
              "      <th>ward</th>\n",
              "      <th>population</th>\n",
              "      <th>public_meeting</th>\n",
              "      <th>scheme_management</th>\n",
              "      <th>scheme_name</th>\n",
              "      <th>permit</th>\n",
              "      <th>construction_year</th>\n",
              "      <th>extraction_type</th>\n",
              "      <th>extraction_type_group</th>\n",
              "      <th>extraction_type_class</th>\n",
              "      <th>management</th>\n",
              "      <th>management_group</th>\n",
              "      <th>payment</th>\n",
              "      <th>payment_type</th>\n",
              "      <th>water_quality</th>\n",
              "      <th>quality_group</th>\n",
              "      <th>quantity</th>\n",
              "      <th>quantity_group</th>\n",
              "      <th>source</th>\n",
              "      <th>source_type</th>\n",
              "      <th>source_class</th>\n",
              "      <th>waterpoint_type</th>\n",
              "      <th>waterpoint_type_group</th>\n",
              "      <th>status_group</th>\n",
              "      <th>...</th>\n",
              "      <th>region_Iringa</th>\n",
              "      <th>region_Mara</th>\n",
              "      <th>region_Manyara</th>\n",
              "      <th>region_Mtwara</th>\n",
              "      <th>region_Kagera</th>\n",
              "      <th>region_Tanga</th>\n",
              "      <th>region_Shinyanga</th>\n",
              "      <th>region_Tabora</th>\n",
              "      <th>region_Pwani</th>\n",
              "      <th>region_Ruvuma</th>\n",
              "      <th>region_Kilimanjaro</th>\n",
              "      <th>region_Rukwa</th>\n",
              "      <th>region_Mwanza</th>\n",
              "      <th>region_Kigoma</th>\n",
              "      <th>region_Lindi</th>\n",
              "      <th>region_Dodoma</th>\n",
              "      <th>region_Arusha</th>\n",
              "      <th>region_Mbeya</th>\n",
              "      <th>region_Singida</th>\n",
              "      <th>region_Morogoro</th>\n",
              "      <th>region_Dar es Salaam</th>\n",
              "      <th>scheme_management_VWC</th>\n",
              "      <th>scheme_management_Other</th>\n",
              "      <th>scheme_management_None</th>\n",
              "      <th>scheme_management_Private operator</th>\n",
              "      <th>scheme_management_WUG</th>\n",
              "      <th>scheme_management_Water Board</th>\n",
              "      <th>scheme_management_WUA</th>\n",
              "      <th>scheme_management_Water authority</th>\n",
              "      <th>scheme_management_Company</th>\n",
              "      <th>scheme_management_Parastatal</th>\n",
              "      <th>scheme_management_Trust</th>\n",
              "      <th>scheme_management_SWC</th>\n",
              "      <th>extraction_type_class_gravity</th>\n",
              "      <th>extraction_type_class_submersible</th>\n",
              "      <th>extraction_type_class_handpump</th>\n",
              "      <th>extraction_type_class_other</th>\n",
              "      <th>extraction_type_class_motorpump</th>\n",
              "      <th>extraction_type_class_wind-powered</th>\n",
              "      <th>extraction_type_class_rope pump</th>\n",
              "    </tr>\n",
              "  </thead>\n",
              "  <tbody>\n",
              "    <tr>\n",
              "      <th>0</th>\n",
              "      <td>69572</td>\n",
              "      <td>6000.0</td>\n",
              "      <td>2011-03-14</td>\n",
              "      <td>Roman</td>\n",
              "      <td>1390</td>\n",
              "      <td>Roman</td>\n",
              "      <td>34.938093</td>\n",
              "      <td>-9.856322</td>\n",
              "      <td>none</td>\n",
              "      <td>0</td>\n",
              "      <td>Lake Nyasa</td>\n",
              "      <td>Mnyusi B</td>\n",
              "      <td>Iringa</td>\n",
              "      <td>11</td>\n",
              "      <td>5</td>\n",
              "      <td>Ludewa</td>\n",
              "      <td>Mundindi</td>\n",
              "      <td>109</td>\n",
              "      <td>1</td>\n",
              "      <td>VWC</td>\n",
              "      <td>Roman</td>\n",
              "      <td>0</td>\n",
              "      <td>1999</td>\n",
              "      <td>gravity</td>\n",
              "      <td>gravity</td>\n",
              "      <td>gravity</td>\n",
              "      <td>vwc</td>\n",
              "      <td>user-group</td>\n",
              "      <td>pay annually</td>\n",
              "      <td>annually</td>\n",
              "      <td>soft</td>\n",
              "      <td>good</td>\n",
              "      <td>enough</td>\n",
              "      <td>enough</td>\n",
              "      <td>spring</td>\n",
              "      <td>spring</td>\n",
              "      <td>groundwater</td>\n",
              "      <td>communal standpipe</td>\n",
              "      <td>communal standpipe</td>\n",
              "      <td>functional</td>\n",
              "      <td>...</td>\n",
              "      <td>1</td>\n",
              "      <td>0</td>\n",
              "      <td>0</td>\n",
              "      <td>0</td>\n",
              "      <td>0</td>\n",
              "      <td>0</td>\n",
              "      <td>0</td>\n",
              "      <td>0</td>\n",
              "      <td>0</td>\n",
              "      <td>0</td>\n",
              "      <td>0</td>\n",
              "      <td>0</td>\n",
              "      <td>0</td>\n",
              "      <td>0</td>\n",
              "      <td>0</td>\n",
              "      <td>0</td>\n",
              "      <td>0</td>\n",
              "      <td>0</td>\n",
              "      <td>0</td>\n",
              "      <td>0</td>\n",
              "      <td>0</td>\n",
              "      <td>1</td>\n",
              "      <td>0</td>\n",
              "      <td>0</td>\n",
              "      <td>0</td>\n",
              "      <td>0</td>\n",
              "      <td>0</td>\n",
              "      <td>0</td>\n",
              "      <td>0</td>\n",
              "      <td>0</td>\n",
              "      <td>0</td>\n",
              "      <td>0</td>\n",
              "      <td>0</td>\n",
              "      <td>1</td>\n",
              "      <td>0</td>\n",
              "      <td>0</td>\n",
              "      <td>0</td>\n",
              "      <td>0</td>\n",
              "      <td>0</td>\n",
              "      <td>0</td>\n",
              "    </tr>\n",
              "    <tr>\n",
              "      <th>1</th>\n",
              "      <td>8776</td>\n",
              "      <td>0.0</td>\n",
              "      <td>2013-03-06</td>\n",
              "      <td>Grumeti</td>\n",
              "      <td>1399</td>\n",
              "      <td>GRUMETI</td>\n",
              "      <td>34.698766</td>\n",
              "      <td>-2.147466</td>\n",
              "      <td>Zahanati</td>\n",
              "      <td>0</td>\n",
              "      <td>Lake Victoria</td>\n",
              "      <td>Nyamara</td>\n",
              "      <td>Mara</td>\n",
              "      <td>20</td>\n",
              "      <td>2</td>\n",
              "      <td>Serengeti</td>\n",
              "      <td>Natta</td>\n",
              "      <td>280</td>\n",
              "      <td>1</td>\n",
              "      <td>Other</td>\n",
              "      <td>NaN</td>\n",
              "      <td>1</td>\n",
              "      <td>2010</td>\n",
              "      <td>gravity</td>\n",
              "      <td>gravity</td>\n",
              "      <td>gravity</td>\n",
              "      <td>wug</td>\n",
              "      <td>user-group</td>\n",
              "      <td>never pay</td>\n",
              "      <td>never pay</td>\n",
              "      <td>soft</td>\n",
              "      <td>good</td>\n",
              "      <td>insufficient</td>\n",
              "      <td>insufficient</td>\n",
              "      <td>rainwater harvesting</td>\n",
              "      <td>rainwater harvesting</td>\n",
              "      <td>surface</td>\n",
              "      <td>communal standpipe</td>\n",
              "      <td>communal standpipe</td>\n",
              "      <td>functional</td>\n",
              "      <td>...</td>\n",
              "      <td>0</td>\n",
              "      <td>1</td>\n",
              "      <td>0</td>\n",
              "      <td>0</td>\n",
              "      <td>0</td>\n",
              "      <td>0</td>\n",
              "      <td>0</td>\n",
              "      <td>0</td>\n",
              "      <td>0</td>\n",
              "      <td>0</td>\n",
              "      <td>0</td>\n",
              "      <td>0</td>\n",
              "      <td>0</td>\n",
              "      <td>0</td>\n",
              "      <td>0</td>\n",
              "      <td>0</td>\n",
              "      <td>0</td>\n",
              "      <td>0</td>\n",
              "      <td>0</td>\n",
              "      <td>0</td>\n",
              "      <td>0</td>\n",
              "      <td>0</td>\n",
              "      <td>1</td>\n",
              "      <td>0</td>\n",
              "      <td>0</td>\n",
              "      <td>0</td>\n",
              "      <td>0</td>\n",
              "      <td>0</td>\n",
              "      <td>0</td>\n",
              "      <td>0</td>\n",
              "      <td>0</td>\n",
              "      <td>0</td>\n",
              "      <td>0</td>\n",
              "      <td>1</td>\n",
              "      <td>0</td>\n",
              "      <td>0</td>\n",
              "      <td>0</td>\n",
              "      <td>0</td>\n",
              "      <td>0</td>\n",
              "      <td>0</td>\n",
              "    </tr>\n",
              "    <tr>\n",
              "      <th>2</th>\n",
              "      <td>34310</td>\n",
              "      <td>25.0</td>\n",
              "      <td>2013-02-25</td>\n",
              "      <td>Lottery Club</td>\n",
              "      <td>686</td>\n",
              "      <td>World vision</td>\n",
              "      <td>37.460664</td>\n",
              "      <td>-3.821329</td>\n",
              "      <td>Kwa Mahundi</td>\n",
              "      <td>0</td>\n",
              "      <td>Pangani</td>\n",
              "      <td>Majengo</td>\n",
              "      <td>Manyara</td>\n",
              "      <td>21</td>\n",
              "      <td>4</td>\n",
              "      <td>Simanjiro</td>\n",
              "      <td>Ngorika</td>\n",
              "      <td>250</td>\n",
              "      <td>1</td>\n",
              "      <td>VWC</td>\n",
              "      <td>Nyumba ya mungu pipe scheme</td>\n",
              "      <td>1</td>\n",
              "      <td>2009</td>\n",
              "      <td>gravity</td>\n",
              "      <td>gravity</td>\n",
              "      <td>gravity</td>\n",
              "      <td>vwc</td>\n",
              "      <td>user-group</td>\n",
              "      <td>pay per bucket</td>\n",
              "      <td>per bucket</td>\n",
              "      <td>soft</td>\n",
              "      <td>good</td>\n",
              "      <td>enough</td>\n",
              "      <td>enough</td>\n",
              "      <td>dam</td>\n",
              "      <td>dam</td>\n",
              "      <td>surface</td>\n",
              "      <td>communal standpipe multiple</td>\n",
              "      <td>communal standpipe</td>\n",
              "      <td>functional</td>\n",
              "      <td>...</td>\n",
              "      <td>0</td>\n",
              "      <td>0</td>\n",
              "      <td>1</td>\n",
              "      <td>0</td>\n",
              "      <td>0</td>\n",
              "      <td>0</td>\n",
              "      <td>0</td>\n",
              "      <td>0</td>\n",
              "      <td>0</td>\n",
              "      <td>0</td>\n",
              "      <td>0</td>\n",
              "      <td>0</td>\n",
              "      <td>0</td>\n",
              "      <td>0</td>\n",
              "      <td>0</td>\n",
              "      <td>0</td>\n",
              "      <td>0</td>\n",
              "      <td>0</td>\n",
              "      <td>0</td>\n",
              "      <td>0</td>\n",
              "      <td>0</td>\n",
              "      <td>1</td>\n",
              "      <td>0</td>\n",
              "      <td>0</td>\n",
              "      <td>0</td>\n",
              "      <td>0</td>\n",
              "      <td>0</td>\n",
              "      <td>0</td>\n",
              "      <td>0</td>\n",
              "      <td>0</td>\n",
              "      <td>0</td>\n",
              "      <td>0</td>\n",
              "      <td>0</td>\n",
              "      <td>1</td>\n",
              "      <td>0</td>\n",
              "      <td>0</td>\n",
              "      <td>0</td>\n",
              "      <td>0</td>\n",
              "      <td>0</td>\n",
              "      <td>0</td>\n",
              "    </tr>\n",
              "    <tr>\n",
              "      <th>3</th>\n",
              "      <td>67743</td>\n",
              "      <td>0.0</td>\n",
              "      <td>2013-01-28</td>\n",
              "      <td>Unicef</td>\n",
              "      <td>263</td>\n",
              "      <td>UNICEF</td>\n",
              "      <td>38.486161</td>\n",
              "      <td>-11.155298</td>\n",
              "      <td>Zahanati Ya Nanyumbu</td>\n",
              "      <td>0</td>\n",
              "      <td>Ruvuma / Southern Coast</td>\n",
              "      <td>Mahakamani</td>\n",
              "      <td>Mtwara</td>\n",
              "      <td>90</td>\n",
              "      <td>63</td>\n",
              "      <td>Nanyumbu</td>\n",
              "      <td>Nanyumbu</td>\n",
              "      <td>58</td>\n",
              "      <td>1</td>\n",
              "      <td>VWC</td>\n",
              "      <td>NaN</td>\n",
              "      <td>1</td>\n",
              "      <td>1986</td>\n",
              "      <td>submersible</td>\n",
              "      <td>submersible</td>\n",
              "      <td>submersible</td>\n",
              "      <td>vwc</td>\n",
              "      <td>user-group</td>\n",
              "      <td>never pay</td>\n",
              "      <td>never pay</td>\n",
              "      <td>soft</td>\n",
              "      <td>good</td>\n",
              "      <td>dry</td>\n",
              "      <td>dry</td>\n",
              "      <td>machine dbh</td>\n",
              "      <td>borehole</td>\n",
              "      <td>groundwater</td>\n",
              "      <td>communal standpipe multiple</td>\n",
              "      <td>communal standpipe</td>\n",
              "      <td>non functional</td>\n",
              "      <td>...</td>\n",
              "      <td>0</td>\n",
              "      <td>0</td>\n",
              "      <td>0</td>\n",
              "      <td>1</td>\n",
              "      <td>0</td>\n",
              "      <td>0</td>\n",
              "      <td>0</td>\n",
              "      <td>0</td>\n",
              "      <td>0</td>\n",
              "      <td>0</td>\n",
              "      <td>0</td>\n",
              "      <td>0</td>\n",
              "      <td>0</td>\n",
              "      <td>0</td>\n",
              "      <td>0</td>\n",
              "      <td>0</td>\n",
              "      <td>0</td>\n",
              "      <td>0</td>\n",
              "      <td>0</td>\n",
              "      <td>0</td>\n",
              "      <td>0</td>\n",
              "      <td>1</td>\n",
              "      <td>0</td>\n",
              "      <td>0</td>\n",
              "      <td>0</td>\n",
              "      <td>0</td>\n",
              "      <td>0</td>\n",
              "      <td>0</td>\n",
              "      <td>0</td>\n",
              "      <td>0</td>\n",
              "      <td>0</td>\n",
              "      <td>0</td>\n",
              "      <td>0</td>\n",
              "      <td>0</td>\n",
              "      <td>1</td>\n",
              "      <td>0</td>\n",
              "      <td>0</td>\n",
              "      <td>0</td>\n",
              "      <td>0</td>\n",
              "      <td>0</td>\n",
              "    </tr>\n",
              "    <tr>\n",
              "      <th>4</th>\n",
              "      <td>19728</td>\n",
              "      <td>0.0</td>\n",
              "      <td>2011-07-13</td>\n",
              "      <td>Action In A</td>\n",
              "      <td>0</td>\n",
              "      <td>Artisan</td>\n",
              "      <td>31.130847</td>\n",
              "      <td>-1.825359</td>\n",
              "      <td>Shuleni</td>\n",
              "      <td>0</td>\n",
              "      <td>Lake Victoria</td>\n",
              "      <td>Kyanyamisa</td>\n",
              "      <td>Kagera</td>\n",
              "      <td>18</td>\n",
              "      <td>1</td>\n",
              "      <td>Karagwe</td>\n",
              "      <td>Nyakasimbi</td>\n",
              "      <td>0</td>\n",
              "      <td>1</td>\n",
              "      <td>None</td>\n",
              "      <td>NaN</td>\n",
              "      <td>1</td>\n",
              "      <td>0</td>\n",
              "      <td>gravity</td>\n",
              "      <td>gravity</td>\n",
              "      <td>gravity</td>\n",
              "      <td>other</td>\n",
              "      <td>other</td>\n",
              "      <td>never pay</td>\n",
              "      <td>never pay</td>\n",
              "      <td>soft</td>\n",
              "      <td>good</td>\n",
              "      <td>seasonal</td>\n",
              "      <td>seasonal</td>\n",
              "      <td>rainwater harvesting</td>\n",
              "      <td>rainwater harvesting</td>\n",
              "      <td>surface</td>\n",
              "      <td>communal standpipe</td>\n",
              "      <td>communal standpipe</td>\n",
              "      <td>functional</td>\n",
              "      <td>...</td>\n",
              "      <td>0</td>\n",
              "      <td>0</td>\n",
              "      <td>0</td>\n",
              "      <td>0</td>\n",
              "      <td>1</td>\n",
              "      <td>0</td>\n",
              "      <td>0</td>\n",
              "      <td>0</td>\n",
              "      <td>0</td>\n",
              "      <td>0</td>\n",
              "      <td>0</td>\n",
              "      <td>0</td>\n",
              "      <td>0</td>\n",
              "      <td>0</td>\n",
              "      <td>0</td>\n",
              "      <td>0</td>\n",
              "      <td>0</td>\n",
              "      <td>0</td>\n",
              "      <td>0</td>\n",
              "      <td>0</td>\n",
              "      <td>0</td>\n",
              "      <td>0</td>\n",
              "      <td>0</td>\n",
              "      <td>1</td>\n",
              "      <td>0</td>\n",
              "      <td>0</td>\n",
              "      <td>0</td>\n",
              "      <td>0</td>\n",
              "      <td>0</td>\n",
              "      <td>0</td>\n",
              "      <td>0</td>\n",
              "      <td>0</td>\n",
              "      <td>0</td>\n",
              "      <td>1</td>\n",
              "      <td>0</td>\n",
              "      <td>0</td>\n",
              "      <td>0</td>\n",
              "      <td>0</td>\n",
              "      <td>0</td>\n",
              "      <td>0</td>\n",
              "    </tr>\n",
              "  </tbody>\n",
              "</table>\n",
              "<p>5 rows × 92 columns</p>\n",
              "</div>"
            ],
            "text/plain": [
              "      id  ...  extraction_type_class_rope pump\n",
              "0  69572  ...                                0\n",
              "1   8776  ...                                0\n",
              "2  34310  ...                                0\n",
              "3  67743  ...                                0\n",
              "4  19728  ...                                0\n",
              "\n",
              "[5 rows x 92 columns]"
            ]
          },
          "metadata": {
            "tags": []
          },
          "execution_count": 34
        }
      ]
    },
    {
      "cell_type": "code",
      "metadata": {
        "id": "0W0hHoQK7-lz",
        "colab_type": "code",
        "colab": {
          "base_uri": "https://localhost:8080/",
          "height": 247
        },
        "outputId": "7467b719-bee0-4749-f4ac-e0c947a8608b"
      },
      "source": [
        "train.management.value_counts()"
      ],
      "execution_count": 37,
      "outputs": [
        {
          "output_type": "execute_result",
          "data": {
            "text/plain": [
              "vwc                 40507\n",
              "wug                  6515\n",
              "water board          2933\n",
              "wua                  2535\n",
              "private operator     1971\n",
              "parastatal           1768\n",
              "water authority       904\n",
              "other                 844\n",
              "company               685\n",
              "unknown               561\n",
              "other - school         99\n",
              "trust                  78\n",
              "Name: management, dtype: int64"
            ]
          },
          "metadata": {
            "tags": []
          },
          "execution_count": 37
        }
      ]
    },
    {
      "cell_type": "code",
      "metadata": {
        "id": "tRd9gbfW8Tw0",
        "colab_type": "code",
        "colab": {
          "base_uri": "https://localhost:8080/",
          "height": 34
        },
        "outputId": "66577ab7-2b44-48ea-e3f2-7b80eff20dab"
      },
      "source": [
        "train.management.isnull().sum()"
      ],
      "execution_count": 38,
      "outputs": [
        {
          "output_type": "execute_result",
          "data": {
            "text/plain": [
              "0"
            ]
          },
          "metadata": {
            "tags": []
          },
          "execution_count": 38
        }
      ]
    },
    {
      "cell_type": "code",
      "metadata": {
        "id": "U4tZuJ2h8itB",
        "colab_type": "code",
        "colab": {}
      },
      "source": [
        "oh_encoder = ce.OneHotEncoder(use_cat_names=True)\n",
        "managemento_encoded = oh_encoder.fit_transform(train[[\"management\"]])\n",
        "test_encoder = oh_encoder.transform(test[[\"management\"]])\n",
        "\n",
        "train = pd.concat([train, managemento_encoded], axis=1)\n",
        "test = pd.concat([test, test_encoder], axis=1)\n"
      ],
      "execution_count": 0,
      "outputs": []
    },
    {
      "cell_type": "code",
      "metadata": {
        "id": "qoPC23dC613Y",
        "colab_type": "code",
        "colab": {
          "base_uri": "https://localhost:8080/",
          "height": 123
        },
        "outputId": "5dd83ba1-0e0f-4e9b-c62f-e64bc58eaa47"
      },
      "source": [
        "train.management_group.value_counts()"
      ],
      "execution_count": 35,
      "outputs": [
        {
          "output_type": "execute_result",
          "data": {
            "text/plain": [
              "user-group    52490\n",
              "commercial     3638\n",
              "parastatal     1768\n",
              "other           943\n",
              "unknown         561\n",
              "Name: management_group, dtype: int64"
            ]
          },
          "metadata": {
            "tags": []
          },
          "execution_count": 35
        }
      ]
    },
    {
      "cell_type": "code",
      "metadata": {
        "id": "NdjCJcXn8dJv",
        "colab_type": "code",
        "colab": {
          "base_uri": "https://localhost:8080/",
          "height": 34
        },
        "outputId": "19993ebc-5ae0-4b86-90a4-d3e236477f08"
      },
      "source": [
        "train.management_group.isnull().sum()"
      ],
      "execution_count": 39,
      "outputs": [
        {
          "output_type": "execute_result",
          "data": {
            "text/plain": [
              "0"
            ]
          },
          "metadata": {
            "tags": []
          },
          "execution_count": 39
        }
      ]
    },
    {
      "cell_type": "code",
      "metadata": {
        "id": "X9L-O3o069DA",
        "colab_type": "code",
        "colab": {}
      },
      "source": [
        "# one hot\n",
        "\n",
        "oh_encoder = ce.OneHotEncoder(use_cat_names=True)\n",
        "management_encoded = oh_encoder.fit_transform(train[[\"management_group\"]])\n",
        "test_encoder = oh_encoder.transform(test[[\"management_group\"]])\n",
        "\n",
        "train = pd.concat([train, management_encoded], axis=1)\n",
        "test = pd.concat([test, test_encoder], axis=1)\n"
      ],
      "execution_count": 0,
      "outputs": []
    },
    {
      "cell_type": "code",
      "metadata": {
        "id": "rhtIuJUG86xf",
        "colab_type": "code",
        "colab": {
          "base_uri": "https://localhost:8080/",
          "height": 158
        },
        "outputId": "e672cda6-08ac-4138-a4a3-3e454c3187c3"
      },
      "source": [
        "train.payment.value_counts()"
      ],
      "execution_count": 41,
      "outputs": [
        {
          "output_type": "execute_result",
          "data": {
            "text/plain": [
              "never pay                25348\n",
              "pay per bucket            8985\n",
              "pay monthly               8300\n",
              "unknown                   8157\n",
              "pay when scheme fails     3914\n",
              "pay annually              3642\n",
              "other                     1054\n",
              "Name: payment, dtype: int64"
            ]
          },
          "metadata": {
            "tags": []
          },
          "execution_count": 41
        }
      ]
    },
    {
      "cell_type": "code",
      "metadata": {
        "id": "v9Lu6OkJ88l4",
        "colab_type": "code",
        "colab": {
          "base_uri": "https://localhost:8080/",
          "height": 34
        },
        "outputId": "d8e9af83-206d-47f7-81c0-9455b288751a"
      },
      "source": [
        "train.payment.isnull().sum()"
      ],
      "execution_count": 42,
      "outputs": [
        {
          "output_type": "execute_result",
          "data": {
            "text/plain": [
              "0"
            ]
          },
          "metadata": {
            "tags": []
          },
          "execution_count": 42
        }
      ]
    },
    {
      "cell_type": "code",
      "metadata": {
        "id": "PWnl-5_Z9F0z",
        "colab_type": "code",
        "colab": {}
      },
      "source": [
        "oh_encoder = ce.OneHotEncoder(use_cat_names=True)\n",
        "payment_encoded = oh_encoder.fit_transform(train[[\"payment\"]])\n",
        "test_encoder = oh_encoder.transform(test[[\"payment\"]])\n",
        "\n",
        "train = pd.concat([train, payment_encoded], axis=1)\n",
        "test = pd.concat([test, test_encoder], axis=1)\n"
      ],
      "execution_count": 0,
      "outputs": []
    },
    {
      "cell_type": "code",
      "metadata": {
        "id": "sWf9hoDr9Ovi",
        "colab_type": "code",
        "colab": {
          "base_uri": "https://localhost:8080/",
          "height": 34
        },
        "outputId": "e060934f-d08b-4c5c-d1aa-882fd6fbbc8d"
      },
      "source": [
        "train.shape, test.shape"
      ],
      "execution_count": 44,
      "outputs": [
        {
          "output_type": "execute_result",
          "data": {
            "text/plain": [
              "((59400, 116), (14358, 115))"
            ]
          },
          "metadata": {
            "tags": []
          },
          "execution_count": 44
        }
      ]
    },
    {
      "cell_type": "code",
      "metadata": {
        "id": "5ComXRv49Qhk",
        "colab_type": "code",
        "colab": {
          "base_uri": "https://localhost:8080/",
          "height": 158
        },
        "outputId": "4ab26293-8583-4a8c-c877-20676855fa48"
      },
      "source": [
        "train.payment_type.value_counts()"
      ],
      "execution_count": 45,
      "outputs": [
        {
          "output_type": "execute_result",
          "data": {
            "text/plain": [
              "never pay     25348\n",
              "per bucket     8985\n",
              "monthly        8300\n",
              "unknown        8157\n",
              "on failure     3914\n",
              "annually       3642\n",
              "other          1054\n",
              "Name: payment_type, dtype: int64"
            ]
          },
          "metadata": {
            "tags": []
          },
          "execution_count": 45
        }
      ]
    },
    {
      "cell_type": "code",
      "metadata": {
        "id": "XOvSJOt79UcW",
        "colab_type": "code",
        "colab": {}
      },
      "source": [
        "# same exact thing, lets drop this\n",
        "\n",
        "train = train.drop(columns=\"payment_type\")\n",
        "test = test.drop(columns=\"payment_type\")"
      ],
      "execution_count": 0,
      "outputs": []
    },
    {
      "cell_type": "code",
      "metadata": {
        "id": "ndT5pY01-M9x",
        "colab_type": "code",
        "colab": {
          "base_uri": "https://localhost:8080/",
          "height": 176
        },
        "outputId": "cb4f9f1b-4e20-496d-dd98-f34a65a61682"
      },
      "source": [
        "train.water_quality.value_counts()"
      ],
      "execution_count": 48,
      "outputs": [
        {
          "output_type": "execute_result",
          "data": {
            "text/plain": [
              "soft                  50818\n",
              "salty                  4856\n",
              "unknown                1876\n",
              "milky                   804\n",
              "coloured                490\n",
              "salty abandoned         339\n",
              "fluoride                200\n",
              "fluoride abandoned       17\n",
              "Name: water_quality, dtype: int64"
            ]
          },
          "metadata": {
            "tags": []
          },
          "execution_count": 48
        }
      ]
    },
    {
      "cell_type": "code",
      "metadata": {
        "id": "CCbF-CN6-puu",
        "colab_type": "code",
        "colab": {
          "base_uri": "https://localhost:8080/",
          "height": 34
        },
        "outputId": "baafa02c-759d-4612-963f-16d7b4ae085a"
      },
      "source": [
        "train.water_quality.isnull().sum()"
      ],
      "execution_count": 49,
      "outputs": [
        {
          "output_type": "execute_result",
          "data": {
            "text/plain": [
              "0"
            ]
          },
          "metadata": {
            "tags": []
          },
          "execution_count": 49
        }
      ]
    },
    {
      "cell_type": "code",
      "metadata": {
        "id": "CvbJmY6g--Z2",
        "colab_type": "code",
        "colab": {
          "base_uri": "https://localhost:8080/",
          "height": 141
        },
        "outputId": "c57053a6-98d1-4d3f-c54d-d1878b7192c3"
      },
      "source": [
        "train.quality_group.value_counts()"
      ],
      "execution_count": 51,
      "outputs": [
        {
          "output_type": "execute_result",
          "data": {
            "text/plain": [
              "good        50818\n",
              "salty        5195\n",
              "unknown      1876\n",
              "milky         804\n",
              "colored       490\n",
              "fluoride      217\n",
              "Name: quality_group, dtype: int64"
            ]
          },
          "metadata": {
            "tags": []
          },
          "execution_count": 51
        }
      ]
    },
    {
      "cell_type": "code",
      "metadata": {
        "id": "T4wO4UPw_q0S",
        "colab_type": "code",
        "colab": {}
      },
      "source": [
        "# lets use quality_group and drop water_quality"
      ],
      "execution_count": 0,
      "outputs": []
    },
    {
      "cell_type": "code",
      "metadata": {
        "id": "I_7z7KfT_LwM",
        "colab_type": "code",
        "colab": {}
      },
      "source": [
        "oh_encoder = ce.OneHotEncoder(use_cat_names=True)\n",
        "quality_encoded = oh_encoder.fit_transform(train[[\"quality_group\"]])\n",
        "test_encoder = oh_encoder.transform(test[[\"quality_group\"]])\n",
        "\n",
        "train = pd.concat([train, quality_encoded], axis=1)\n",
        "test = pd.concat([test, test_encoder], axis=1)"
      ],
      "execution_count": 0,
      "outputs": []
    },
    {
      "cell_type": "code",
      "metadata": {
        "id": "FOOrucJX_6QL",
        "colab_type": "code",
        "colab": {
          "base_uri": "https://localhost:8080/",
          "height": 123
        },
        "outputId": "65a384f6-4234-476e-d5e2-251e6b7e9556"
      },
      "source": [
        "train.quantity.value_counts()"
      ],
      "execution_count": 53,
      "outputs": [
        {
          "output_type": "execute_result",
          "data": {
            "text/plain": [
              "enough          33186\n",
              "insufficient    15129\n",
              "dry              6246\n",
              "seasonal         4050\n",
              "unknown           789\n",
              "Name: quantity, dtype: int64"
            ]
          },
          "metadata": {
            "tags": []
          },
          "execution_count": 53
        }
      ]
    },
    {
      "cell_type": "code",
      "metadata": {
        "id": "_mBs1RmiABtj",
        "colab_type": "code",
        "colab": {
          "base_uri": "https://localhost:8080/",
          "height": 123
        },
        "outputId": "1f31fd97-2529-4dec-cac6-5ff33cdd61b5"
      },
      "source": [
        "train.quantity_group.value_counts()"
      ],
      "execution_count": 55,
      "outputs": [
        {
          "output_type": "execute_result",
          "data": {
            "text/plain": [
              "enough          33186\n",
              "insufficient    15129\n",
              "dry              6246\n",
              "seasonal         4050\n",
              "unknown           789\n",
              "Name: quantity_group, dtype: int64"
            ]
          },
          "metadata": {
            "tags": []
          },
          "execution_count": 55
        }
      ]
    },
    {
      "cell_type": "code",
      "metadata": {
        "id": "unqK51MIAE45",
        "colab_type": "code",
        "colab": {}
      },
      "source": [
        "# same stuff -- lets use quantity and try ordinal encoding this time\n",
        "\n",
        "train.quantity = train.quantity.replace({\"enough\": 4, \"insufficient\": 3, \n",
        "                                         \"dry\": 2, \"seasonal\": 1, \"unknown\": 0})\n",
        "\n",
        "test.quantity = test.quantity.replace({\"enough\": 4, \"insufficient\": 3, \n",
        "                                         \"dry\": 2, \"seasonal\": 1, \"unknown\": 0})"
      ],
      "execution_count": 0,
      "outputs": []
    },
    {
      "cell_type": "code",
      "metadata": {
        "id": "Y_jzMdzjAcaj",
        "colab_type": "code",
        "colab": {
          "base_uri": "https://localhost:8080/",
          "height": 212
        },
        "outputId": "b939a3a9-aba4-46de-8bcc-0936ab3faf96"
      },
      "source": [
        "train.source.value_counts()"
      ],
      "execution_count": 56,
      "outputs": [
        {
          "output_type": "execute_result",
          "data": {
            "text/plain": [
              "spring                  17021\n",
              "shallow well            16824\n",
              "machine dbh             11075\n",
              "river                    9612\n",
              "rainwater harvesting     2295\n",
              "hand dtw                  874\n",
              "lake                      765\n",
              "dam                       656\n",
              "other                     212\n",
              "unknown                    66\n",
              "Name: source, dtype: int64"
            ]
          },
          "metadata": {
            "tags": []
          },
          "execution_count": 56
        }
      ]
    },
    {
      "cell_type": "code",
      "metadata": {
        "id": "gT5J0qY0A0a1",
        "colab_type": "code",
        "colab": {
          "base_uri": "https://localhost:8080/",
          "height": 34
        },
        "outputId": "d475d584-b1aa-4f2e-d734-8b1a51c80fed"
      },
      "source": [
        "train.source.isnull().sum()"
      ],
      "execution_count": 60,
      "outputs": [
        {
          "output_type": "execute_result",
          "data": {
            "text/plain": [
              "0"
            ]
          },
          "metadata": {
            "tags": []
          },
          "execution_count": 60
        }
      ]
    },
    {
      "cell_type": "code",
      "metadata": {
        "id": "xKQDUvKJAehq",
        "colab_type": "code",
        "colab": {
          "base_uri": "https://localhost:8080/",
          "height": 158
        },
        "outputId": "b610a82e-0d1e-43ba-b05f-561f03158a7f"
      },
      "source": [
        "train.source_type.value_counts()"
      ],
      "execution_count": 57,
      "outputs": [
        {
          "output_type": "execute_result",
          "data": {
            "text/plain": [
              "spring                  17021\n",
              "shallow well            16824\n",
              "borehole                11949\n",
              "river/lake              10377\n",
              "rainwater harvesting     2295\n",
              "dam                       656\n",
              "other                     278\n",
              "Name: source_type, dtype: int64"
            ]
          },
          "metadata": {
            "tags": []
          },
          "execution_count": 57
        }
      ]
    },
    {
      "cell_type": "code",
      "metadata": {
        "id": "73RQq9rOA4oc",
        "colab_type": "code",
        "colab": {
          "base_uri": "https://localhost:8080/",
          "height": 34
        },
        "outputId": "703d03cf-74e1-47c3-c047-856e3def842f"
      },
      "source": [
        "train.source_type.isnull().sum()"
      ],
      "execution_count": 61,
      "outputs": [
        {
          "output_type": "execute_result",
          "data": {
            "text/plain": [
              "0"
            ]
          },
          "metadata": {
            "tags": []
          },
          "execution_count": 61
        }
      ]
    },
    {
      "cell_type": "code",
      "metadata": {
        "id": "vWg28_l-BAKs",
        "colab_type": "code",
        "colab": {}
      },
      "source": [
        "# lets use source_type as there a slightly fewer options for one hot\n",
        "\n",
        "oh_encoder = ce.OneHotEncoder(use_cat_names=True)\n",
        "source_encoded = oh_encoder.fit_transform(train[[\"source_type\"]])\n",
        "test_encoder = oh_encoder.transform(test[[\"source_type\"]])\n",
        "\n",
        "train = pd.concat([train, source_encoded], axis=1)\n",
        "test = pd.concat([test, test_encoder], axis=1)"
      ],
      "execution_count": 0,
      "outputs": []
    },
    {
      "cell_type": "code",
      "metadata": {
        "id": "pCH3eP9ZAgs6",
        "colab_type": "code",
        "colab": {
          "base_uri": "https://localhost:8080/",
          "height": 87
        },
        "outputId": "0fa1e2f3-bc03-4b0d-d2f7-ea82260e7468"
      },
      "source": [
        "train.source_class.value_counts()"
      ],
      "execution_count": 58,
      "outputs": [
        {
          "output_type": "execute_result",
          "data": {
            "text/plain": [
              "groundwater    45794\n",
              "surface        13328\n",
              "unknown          278\n",
              "Name: source_class, dtype: int64"
            ]
          },
          "metadata": {
            "tags": []
          },
          "execution_count": 58
        }
      ]
    },
    {
      "cell_type": "code",
      "metadata": {
        "id": "NER-ELFiAjwC",
        "colab_type": "code",
        "colab": {
          "base_uri": "https://localhost:8080/",
          "height": 34
        },
        "outputId": "d9e27925-e99c-4a51-dc17-fa32c3f9d588"
      },
      "source": [
        "train.source_class.isnull().sum()"
      ],
      "execution_count": 63,
      "outputs": [
        {
          "output_type": "execute_result",
          "data": {
            "text/plain": [
              "0"
            ]
          },
          "metadata": {
            "tags": []
          },
          "execution_count": 63
        }
      ]
    },
    {
      "cell_type": "code",
      "metadata": {
        "id": "hGpNdZTbBhU9",
        "colab_type": "code",
        "colab": {}
      },
      "source": [
        "# I'm thinking I'll go ordinal here \n",
        "train.source_class = train.source_class.replace({\"groundwater\": 2, \"surface\": 1, \"unknown\": 0})\n",
        "test.source_class = test.source_class.replace({\"groundwater\": 2, \"surface\": 1, \"unknown\": 0})\n"
      ],
      "execution_count": 0,
      "outputs": []
    },
    {
      "cell_type": "code",
      "metadata": {
        "id": "xuTjfOO9Bxla",
        "colab_type": "code",
        "colab": {
          "base_uri": "https://localhost:8080/",
          "height": 158
        },
        "outputId": "ca81a389-744c-4c3d-a564-940bdc3c2803"
      },
      "source": [
        "train.waterpoint_type.value_counts()"
      ],
      "execution_count": 64,
      "outputs": [
        {
          "output_type": "execute_result",
          "data": {
            "text/plain": [
              "communal standpipe             28522\n",
              "hand pump                      17488\n",
              "other                           6380\n",
              "communal standpipe multiple     6103\n",
              "improved spring                  784\n",
              "cattle trough                    116\n",
              "dam                                7\n",
              "Name: waterpoint_type, dtype: int64"
            ]
          },
          "metadata": {
            "tags": []
          },
          "execution_count": 64
        }
      ]
    },
    {
      "cell_type": "code",
      "metadata": {
        "id": "XleykQ0nCMp3",
        "colab_type": "code",
        "colab": {
          "base_uri": "https://localhost:8080/",
          "height": 34
        },
        "outputId": "55e75a4d-7187-409a-e9e2-67e568cc534a"
      },
      "source": [
        "train.waterpoint_type.isnull().sum()"
      ],
      "execution_count": 66,
      "outputs": [
        {
          "output_type": "execute_result",
          "data": {
            "text/plain": [
              "0"
            ]
          },
          "metadata": {
            "tags": []
          },
          "execution_count": 66
        }
      ]
    },
    {
      "cell_type": "code",
      "metadata": {
        "id": "GtRz8PpRB0-V",
        "colab_type": "code",
        "colab": {
          "base_uri": "https://localhost:8080/",
          "height": 141
        },
        "outputId": "391a457f-cfbf-44f4-e1bd-67582ded999e"
      },
      "source": [
        "train.waterpoint_type_group.value_counts()"
      ],
      "execution_count": 65,
      "outputs": [
        {
          "output_type": "execute_result",
          "data": {
            "text/plain": [
              "communal standpipe    34625\n",
              "hand pump             17488\n",
              "other                  6380\n",
              "improved spring         784\n",
              "cattle trough           116\n",
              "dam                       7\n",
              "Name: waterpoint_type_group, dtype: int64"
            ]
          },
          "metadata": {
            "tags": []
          },
          "execution_count": 65
        }
      ]
    },
    {
      "cell_type": "code",
      "metadata": {
        "id": "d8lHtnLrB4Vw",
        "colab_type": "code",
        "colab": {}
      },
      "source": [
        "# one hot time -- using waterpoint type\n",
        "\n",
        "oh_encoder = ce.OneHotEncoder(use_cat_names=True)\n",
        "waterpoint_encoded = oh_encoder.fit_transform(train[[\"waterpoint_type\"]])\n",
        "test_encoder = oh_encoder.transform(test[[\"waterpoint_type\"]])\n",
        "\n",
        "train = pd.concat([train, waterpoint_encoded], axis=1)\n",
        "test = pd.concat([test, test_encoder], axis=1)"
      ],
      "execution_count": 0,
      "outputs": []
    },
    {
      "cell_type": "code",
      "metadata": {
        "id": "90WmubCvCZ1i",
        "colab_type": "code",
        "colab": {
          "base_uri": "https://localhost:8080/",
          "height": 34
        },
        "outputId": "b8dcd5a4-7d65-4099-926f-3fb6e8ad5abd"
      },
      "source": [
        "train.shape, test.shape"
      ],
      "execution_count": 68,
      "outputs": [
        {
          "output_type": "execute_result",
          "data": {
            "text/plain": [
              "((59400, 143), (14358, 142))"
            ]
          },
          "metadata": {
            "tags": []
          },
          "execution_count": 68
        }
      ]
    },
    {
      "cell_type": "code",
      "metadata": {
        "id": "0OQmpu9xUd8R",
        "colab_type": "code",
        "colab": {
          "base_uri": "https://localhost:8080/",
          "height": 2558
        },
        "outputId": "0df5fb86-5559-4fa1-c729-ce0a7c9251a1"
      },
      "source": [
        "train.columns.to_list()"
      ],
      "execution_count": 74,
      "outputs": [
        {
          "output_type": "execute_result",
          "data": {
            "text/plain": [
              "['id',\n",
              " 'amount_tsh',\n",
              " 'date_recorded',\n",
              " 'funder',\n",
              " 'gps_height',\n",
              " 'installer',\n",
              " 'longitude',\n",
              " 'latitude',\n",
              " 'wpt_name',\n",
              " 'num_private',\n",
              " 'basin',\n",
              " 'subvillage',\n",
              " 'region',\n",
              " 'region_code',\n",
              " 'district_code',\n",
              " 'lga',\n",
              " 'ward',\n",
              " 'population',\n",
              " 'public_meeting',\n",
              " 'scheme_management',\n",
              " 'scheme_name',\n",
              " 'permit',\n",
              " 'construction_year',\n",
              " 'extraction_type',\n",
              " 'extraction_type_group',\n",
              " 'extraction_type_class',\n",
              " 'management',\n",
              " 'management_group',\n",
              " 'payment',\n",
              " 'water_quality',\n",
              " 'quality_group',\n",
              " 'quantity',\n",
              " 'quantity_group',\n",
              " 'source',\n",
              " 'source_type',\n",
              " 'source_class',\n",
              " 'waterpoint_type',\n",
              " 'waterpoint_type_group',\n",
              " 'status_group',\n",
              " 'year_recorded',\n",
              " 'month_recorded',\n",
              " 'day_of_month_recorded',\n",
              " 'basin_Lake Nyasa',\n",
              " 'basin_Lake Victoria',\n",
              " 'basin_Pangani',\n",
              " 'basin_Ruvuma / Southern Coast',\n",
              " 'basin_Internal',\n",
              " 'basin_Lake Tanganyika',\n",
              " 'basin_Wami / Ruvu',\n",
              " 'basin_Rufiji',\n",
              " 'basin_Lake Rukwa',\n",
              " 'region_Iringa',\n",
              " 'region_Mara',\n",
              " 'region_Manyara',\n",
              " 'region_Mtwara',\n",
              " 'region_Kagera',\n",
              " 'region_Tanga',\n",
              " 'region_Shinyanga',\n",
              " 'region_Tabora',\n",
              " 'region_Pwani',\n",
              " 'region_Ruvuma',\n",
              " 'region_Kilimanjaro',\n",
              " 'region_Rukwa',\n",
              " 'region_Mwanza',\n",
              " 'region_Kigoma',\n",
              " 'region_Lindi',\n",
              " 'region_Dodoma',\n",
              " 'region_Arusha',\n",
              " 'region_Mbeya',\n",
              " 'region_Singida',\n",
              " 'region_Morogoro',\n",
              " 'region_Dar es Salaam',\n",
              " 'scheme_management_VWC',\n",
              " 'scheme_management_Other',\n",
              " 'scheme_management_None',\n",
              " 'scheme_management_Private operator',\n",
              " 'scheme_management_WUG',\n",
              " 'scheme_management_Water Board',\n",
              " 'scheme_management_WUA',\n",
              " 'scheme_management_Water authority',\n",
              " 'scheme_management_Company',\n",
              " 'scheme_management_Parastatal',\n",
              " 'scheme_management_Trust',\n",
              " 'scheme_management_SWC',\n",
              " 'extraction_type_class_gravity',\n",
              " 'extraction_type_class_submersible',\n",
              " 'extraction_type_class_handpump',\n",
              " 'extraction_type_class_other',\n",
              " 'extraction_type_class_motorpump',\n",
              " 'extraction_type_class_wind-powered',\n",
              " 'extraction_type_class_rope pump',\n",
              " 'management_group_user-group',\n",
              " 'management_group_other',\n",
              " 'management_group_commercial',\n",
              " 'management_group_parastatal',\n",
              " 'management_group_unknown',\n",
              " 'management_vwc',\n",
              " 'management_wug',\n",
              " 'management_other',\n",
              " 'management_private operator',\n",
              " 'management_water board',\n",
              " 'management_wua',\n",
              " 'management_company',\n",
              " 'management_water authority',\n",
              " 'management_parastatal',\n",
              " 'management_unknown',\n",
              " 'management_other - school',\n",
              " 'management_trust',\n",
              " 'payment_pay annually',\n",
              " 'payment_never pay',\n",
              " 'payment_pay per bucket',\n",
              " 'payment_unknown',\n",
              " 'payment_pay when scheme fails',\n",
              " 'payment_other',\n",
              " 'payment_pay monthly',\n",
              " 'water_quality_soft',\n",
              " 'water_quality_salty',\n",
              " 'water_quality_milky',\n",
              " 'water_quality_unknown',\n",
              " 'water_quality_fluoride',\n",
              " 'water_quality_coloured',\n",
              " 'water_quality_salty abandoned',\n",
              " 'water_quality_fluoride abandoned',\n",
              " 'quality_group_good',\n",
              " 'quality_group_salty',\n",
              " 'quality_group_milky',\n",
              " 'quality_group_unknown',\n",
              " 'quality_group_fluoride',\n",
              " 'quality_group_colored',\n",
              " 'source_type_spring',\n",
              " 'source_type_rainwater harvesting',\n",
              " 'source_type_dam',\n",
              " 'source_type_borehole',\n",
              " 'source_type_other',\n",
              " 'source_type_shallow well',\n",
              " 'source_type_river/lake',\n",
              " 'waterpoint_type_communal standpipe',\n",
              " 'waterpoint_type_communal standpipe multiple',\n",
              " 'waterpoint_type_hand pump',\n",
              " 'waterpoint_type_other',\n",
              " 'waterpoint_type_improved spring',\n",
              " 'waterpoint_type_cattle trough',\n",
              " 'waterpoint_type_dam']"
            ]
          },
          "metadata": {
            "tags": []
          },
          "execution_count": 74
        }
      ]
    },
    {
      "cell_type": "code",
      "metadata": {
        "id": "jM3IJ1LWCbtP",
        "colab_type": "code",
        "colab": {
          "base_uri": "https://localhost:8080/",
          "height": 137
        },
        "outputId": "68945250-69a0-47b8-c868-788465ae7969"
      },
      "source": [
        "# lets put this mess all together\n",
        "\n",
        "from xgboost import XGBClassifier\n",
        "from sklearn.model_selection import cross_validate\n",
        "from sklearn.metrics import accuracy_score\n",
        "\n",
        "\n",
        "\n",
        "features = ['amount_tsh', 'gps_height', 'longitude', 'latitude', 'num_private',\n",
        "       'region_code', 'district_code',\n",
        "       'population', 'public_meeting', 'permit', 'construction_year', 'year_recorded',\n",
        "       'month_recorded', 'day_of_month_recorded', 'basin_Lake Nyasa',\n",
        "       'basin_Lake Victoria', 'basin_Pangani', 'basin_Ruvuma / Southern Coast',\n",
        "       'basin_Internal', 'basin_Lake Tanganyika', 'basin_Wami / Ruvu',\n",
        "       'basin_Rufiji', 'basin_Lake Rukwa', 'region_Iringa', 'region_Mara',\n",
        "       'region_Manyara', 'region_Mtwara', 'region_Kagera', 'region_Tanga',\n",
        "       'region_Shinyanga', 'region_Tabora', 'region_Pwani', 'region_Ruvuma',\n",
        "       'region_Kilimanjaro', 'region_Rukwa', 'region_Mwanza', 'region_Kigoma',\n",
        "       'region_Lindi', 'region_Dodoma', 'region_Arusha', 'region_Mbeya',\n",
        "       'region_Singida', 'region_Morogoro', 'region_Dar es Salaam',\n",
        "       'scheme_management_VWC', 'scheme_management_Other',\n",
        "       'scheme_management_None', 'scheme_management_Private operator',\n",
        "       'scheme_management_WUG', 'scheme_management_Water Board',\n",
        "       'scheme_management_WUA', 'scheme_management_Water authority',\n",
        "       'scheme_management_Company', 'scheme_management_Parastatal',\n",
        "       'scheme_management_Trust', 'scheme_management_SWC', 'extraction_type_class_gravity',\n",
        "       'extraction_type_class_submersible', 'extraction_type_class_handpump', \n",
        "       'extraction_type_class_other', 'extraction_type_class_motorpump',\n",
        "       'extraction_type_class_wind-powered', 'extraction_type_class_rope pump',\n",
        "       'management_group_user-group', 'management_group_other', 'management_group_commercial',\n",
        "       'management_group_parastatal', 'management_group_unknown', 'management_vwc',\n",
        "       'management_wug', 'management_other', 'management_private operator',\n",
        "       'management_water board', 'management_wua', 'management_company',\n",
        "       'management_water authority', 'management_parastatal', 'management_unknown',\n",
        "       'management_other - school', 'management_trust', 'payment_pay annually',\n",
        "       'payment_never pay', 'payment_pay per bucket', 'payment_unknown',\n",
        "       'payment_pay when scheme fails', 'payment_other', 'payment_pay monthly',\n",
        "       'water_quality_soft', 'water_quality_salty', 'water_quality_milky',\n",
        "       'water_quality_unknown', 'water_quality_fluoride', 'water_quality_coloured',\n",
        "       'water_quality_salty abandoned', 'water_quality_fluoride abandoned',\n",
        "       'quality_group_good', 'quality_group_salty', 'quality_group_milky',\n",
        "       'quality_group_unknown', 'quality_group_fluoride', 'quality_group_colored',\n",
        "       'source_type_spring', 'source_type_rainwater harvesting', 'source_type_dam',\n",
        "       'source_type_borehole', 'source_type_other', 'source_type_shallow well',\n",
        "       'source_type_river/lake', 'waterpoint_type_communal standpipe',\n",
        "       'waterpoint_type_communal standpipe multiple', 'waterpoint_type_hand pump',\n",
        "       'waterpoint_type_other', 'waterpoint_type_improved spring',\n",
        "       'waterpoint_type_cattle trough', 'waterpoint_type_dam']\n",
        "target = \"status_group\"\n",
        "\n",
        "X_train = train[features]\n",
        "y_train = train[target]\n",
        "X_test = test[features]\n",
        "\n",
        "scores = cross_validate(XGBClassifier(max_depth=6, n_estimators=100),\n",
        "                       X_train,\n",
        "                       y_train,\n",
        "                       scoring=\"accuracy\",\n",
        "                       cv=3,\n",
        "                       return_train_score=True,\n",
        "                       return_estimator=True)\n",
        "\n",
        "pd.DataFrame(scores)"
      ],
      "execution_count": 77,
      "outputs": [
        {
          "output_type": "execute_result",
          "data": {
            "text/html": [
              "<div>\n",
              "<style scoped>\n",
              "    .dataframe tbody tr th:only-of-type {\n",
              "        vertical-align: middle;\n",
              "    }\n",
              "\n",
              "    .dataframe tbody tr th {\n",
              "        vertical-align: top;\n",
              "    }\n",
              "\n",
              "    .dataframe thead th {\n",
              "        text-align: right;\n",
              "    }\n",
              "</style>\n",
              "<table border=\"1\" class=\"dataframe\">\n",
              "  <thead>\n",
              "    <tr style=\"text-align: right;\">\n",
              "      <th></th>\n",
              "      <th>fit_time</th>\n",
              "      <th>score_time</th>\n",
              "      <th>estimator</th>\n",
              "      <th>test_score</th>\n",
              "      <th>train_score</th>\n",
              "    </tr>\n",
              "  </thead>\n",
              "  <tbody>\n",
              "    <tr>\n",
              "      <th>0</th>\n",
              "      <td>75.505235</td>\n",
              "      <td>0.499107</td>\n",
              "      <td>XGBClassifier(base_score=0.5, booster='gbtree'...</td>\n",
              "      <td>0.743838</td>\n",
              "      <td>0.763662</td>\n",
              "    </tr>\n",
              "    <tr>\n",
              "      <th>1</th>\n",
              "      <td>73.745008</td>\n",
              "      <td>0.468627</td>\n",
              "      <td>XGBClassifier(base_score=0.5, booster='gbtree'...</td>\n",
              "      <td>0.743586</td>\n",
              "      <td>0.760505</td>\n",
              "    </tr>\n",
              "    <tr>\n",
              "      <th>2</th>\n",
              "      <td>73.904927</td>\n",
              "      <td>0.476838</td>\n",
              "      <td>XGBClassifier(base_score=0.5, booster='gbtree'...</td>\n",
              "      <td>0.739697</td>\n",
              "      <td>0.765808</td>\n",
              "    </tr>\n",
              "  </tbody>\n",
              "</table>\n",
              "</div>"
            ],
            "text/plain": [
              "    fit_time  score_time  ... test_score  train_score\n",
              "0  75.505235    0.499107  ...   0.743838     0.763662\n",
              "1  73.745008    0.468627  ...   0.743586     0.760505\n",
              "2  73.904927    0.476838  ...   0.739697     0.765808\n",
              "\n",
              "[3 rows x 5 columns]"
            ]
          },
          "metadata": {
            "tags": []
          },
          "execution_count": 77
        }
      ]
    },
    {
      "cell_type": "code",
      "metadata": {
        "id": "y-omfk1OVnPk",
        "colab_type": "code",
        "colab": {}
      },
      "source": [
        "boost = XGBClassifier(max_depth=6, n_estimators=100)\n",
        "boost.fit(X_train, y_train)\n",
        "\n",
        "y_pred = boost.predict(X_test)"
      ],
      "execution_count": 0,
      "outputs": []
    },
    {
      "cell_type": "code",
      "metadata": {
        "id": "QtU_BOPWWHP9",
        "colab_type": "code",
        "colab": {
          "base_uri": "https://localhost:8080/",
          "height": 1138
        },
        "outputId": "72bf3819-5670-4d35-8a8f-5dcd670eb77c"
      },
      "source": [
        "import matplotlib.pyplot as plt\n",
        "\n",
        "importances = pd.Series(boost.feature_importances_, X_train.columns)\n",
        "top_n = importances.sort_values(ascending=True)\n",
        "plt.figure(figsize=(12,20))\n",
        "top_n.plot.barh();"
      ],
      "execution_count": 81,
      "outputs": [
        {
          "output_type": "display_data",
          "data": {
            "image/png": "[encoded data removed]",
            "text/plain": [
              "<Figure size 864x1440 with 1 Axes>"
            ]
          },
          "metadata": {
            "tags": []
          }
        }
      ]
    },
    {
      "cell_type": "code",
      "metadata": {
        "id": "Y1UP0hWVXbZ_",
        "colab_type": "code",
        "colab": {
          "base_uri": "https://localhost:8080/",
          "height": 137
        },
        "outputId": "a4d701d5-db25-429b-d5d4-f70439c2e6c6"
      },
      "source": [
        "# lets drop some of those bottom features and run again\n",
        "\n",
        "features = ['amount_tsh', 'gps_height', 'longitude', 'latitude', 'num_private',\n",
        "       'region_code', 'district_code',\n",
        "       'population', 'public_meeting', 'permit', 'construction_year', 'year_recorded',\n",
        "       'month_recorded', 'day_of_month_recorded', 'basin_Lake Nyasa',\n",
        "       'basin_Lake Victoria', 'basin_Pangani', 'basin_Ruvuma / Southern Coast',\n",
        "       'basin_Internal', 'basin_Lake Tanganyika', 'basin_Wami / Ruvu',\n",
        "       'basin_Rufiji', 'basin_Lake Rukwa', 'region_Iringa', 'region_Mara',\n",
        "       'region_Manyara', 'region_Mtwara', 'region_Kagera', 'region_Tanga',\n",
        "       'region_Shinyanga', 'region_Tabora', 'region_Pwani', 'region_Ruvuma',\n",
        "       'region_Kilimanjaro', 'region_Rukwa', 'region_Mwanza', 'region_Kigoma',\n",
        "       'region_Lindi', 'region_Arusha', 'region_Mbeya',\n",
        "       'region_Singida', 'region_Morogoro', 'region_Dar es Salaam',\n",
        "       'scheme_management_VWC', 'scheme_management_Other',\n",
        "       'scheme_management_None', 'scheme_management_Private operator',\n",
        "       'scheme_management_WUG', 'scheme_management_Water Board',\n",
        "       'scheme_management_WUA', 'scheme_management_Water authority',\n",
        "       'scheme_management_Company', 'scheme_management_Parastatal',\n",
        "       'scheme_management_SWC', 'extraction_type_class_gravity',\n",
        "       'extraction_type_class_submersible', 'extraction_type_class_handpump', \n",
        "       'extraction_type_class_other', 'extraction_type_class_motorpump',\n",
        "       'extraction_type_class_wind-powered', 'extraction_type_class_rope pump',\n",
        "       'management_group_user-group', 'management_group_other', 'management_group_commercial',\n",
        "       'management_group_parastatal', 'management_group_unknown', 'management_vwc',\n",
        "       'management_wug', 'management_other', 'management_private operator',\n",
        "       'management_water board', 'management_wua', 'management_company',\n",
        "       'management_water authority',\n",
        "       'management_other - school', 'payment_pay annually',\n",
        "       'payment_never pay', 'payment_pay per bucket', 'payment_unknown',\n",
        "       'payment_pay when scheme fails', 'payment_other', 'payment_pay monthly',\n",
        "       'water_quality_soft', 'water_quality_salty', 'water_quality_milky',\n",
        "       'water_quality_unknown', 'water_quality_fluoride', 'water_quality_coloured',\n",
        "       'water_quality_salty abandoned',\n",
        "       'quality_group_salty',\n",
        "       'source_type_spring', 'source_type_rainwater harvesting', 'source_type_dam',\n",
        "       'source_type_borehole', 'source_type_other', 'source_type_shallow well',\n",
        "       'source_type_river/lake', 'waterpoint_type_communal standpipe',\n",
        "       'waterpoint_type_communal standpipe multiple', 'waterpoint_type_hand pump',\n",
        "       'waterpoint_type_other', 'waterpoint_type_improved spring',\n",
        "       'waterpoint_type_cattle trough']\n",
        "target = \"status_group\"\n",
        "\n",
        "X_train = train[features]\n",
        "y_train = train[target]\n",
        "X_test = test[features]\n",
        "\n",
        "scores = cross_validate(XGBClassifier(max_depth=6, n_estimators=100),\n",
        "                       X_train,\n",
        "                       y_train,\n",
        "                       scoring=\"accuracy\",\n",
        "                       cv=3,\n",
        "                       return_train_score=True,\n",
        "                       return_estimator=True)\n",
        "\n",
        "pd.DataFrame(scores)"
      ],
      "execution_count": 82,
      "outputs": [
        {
          "output_type": "execute_result",
          "data": {
            "text/html": [
              "<div>\n",
              "<style scoped>\n",
              "    .dataframe tbody tr th:only-of-type {\n",
              "        vertical-align: middle;\n",
              "    }\n",
              "\n",
              "    .dataframe tbody tr th {\n",
              "        vertical-align: top;\n",
              "    }\n",
              "\n",
              "    .dataframe thead th {\n",
              "        text-align: right;\n",
              "    }\n",
              "</style>\n",
              "<table border=\"1\" class=\"dataframe\">\n",
              "  <thead>\n",
              "    <tr style=\"text-align: right;\">\n",
              "      <th></th>\n",
              "      <th>fit_time</th>\n",
              "      <th>score_time</th>\n",
              "      <th>estimator</th>\n",
              "      <th>test_score</th>\n",
              "      <th>train_score</th>\n",
              "    </tr>\n",
              "  </thead>\n",
              "  <tbody>\n",
              "    <tr>\n",
              "      <th>0</th>\n",
              "      <td>68.033212</td>\n",
              "      <td>0.467508</td>\n",
              "      <td>XGBClassifier(base_score=0.5, booster='gbtree'...</td>\n",
              "      <td>0.744646</td>\n",
              "      <td>0.763283</td>\n",
              "    </tr>\n",
              "    <tr>\n",
              "      <th>1</th>\n",
              "      <td>67.121159</td>\n",
              "      <td>0.453133</td>\n",
              "      <td>XGBClassifier(base_score=0.5, booster='gbtree'...</td>\n",
              "      <td>0.742222</td>\n",
              "      <td>0.759167</td>\n",
              "    </tr>\n",
              "    <tr>\n",
              "      <th>2</th>\n",
              "      <td>67.124397</td>\n",
              "      <td>0.475768</td>\n",
              "      <td>XGBClassifier(base_score=0.5, booster='gbtree'...</td>\n",
              "      <td>0.739394</td>\n",
              "      <td>0.765707</td>\n",
              "    </tr>\n",
              "  </tbody>\n",
              "</table>\n",
              "</div>"
            ],
            "text/plain": [
              "    fit_time  score_time  ... test_score  train_score\n",
              "0  68.033212    0.467508  ...   0.744646     0.763283\n",
              "1  67.121159    0.453133  ...   0.742222     0.759167\n",
              "2  67.124397    0.475768  ...   0.739394     0.765707\n",
              "\n",
              "[3 rows x 5 columns]"
            ]
          },
          "metadata": {
            "tags": []
          },
          "execution_count": 82
        }
      ]
    },
    {
      "cell_type": "code",
      "metadata": {
        "id": "Pu5gz4yIaUT8",
        "colab_type": "code",
        "colab": {}
      },
      "source": [
        "# not much of an improvement\n",
        "\n",
        "# moving on to a different method"
      ],
      "execution_count": 0,
      "outputs": []
    }
  ]
}